{
  "cells": [
    {
      "cell_type": "markdown",
      "metadata": {
        "colab_type": "text",
        "id": "5axKCoDBfOqE"
      },
      "source": [
        "##### Copyright 2020 Google"
      ]
    },
    {
      "cell_type": "code",
      "execution_count": null,
      "metadata": {
        "cellView": "form",
        "colab": {},
        "colab_type": "code",
        "id": "61stpz_vfP2H"
      },
      "outputs": [],
      "source": [
        "#@title Licensed under the Apache License, Version 2.0 (the \"License\");\n",
        "# you may not use this file except in compliance with the License.\n",
        "# You may obtain a copy of the License at\n",
        "#\n",
        "# https://www.apache.org/licenses/LICENSE-2.0\n",
        "#\n",
        "# Unless required by applicable law or agreed to in writing, software\n",
        "# distributed under the License is distributed on an \"AS IS\" BASIS,\n",
        "# WITHOUT WARRANTIES OR CONDITIONS OF ANY KIND, either express or implied.\n",
        "# See the License for the specific language governing permissions and\n",
        "# limitations under the License."
      ]
    },
    {
      "cell_type": "markdown",
      "metadata": {
        "colab_type": "text",
        "id": "ZgkSewyefAfJ"
      },
      "source": [
        "# Introduction to the bosonic operators"
      ]
    },
    {
      "cell_type": "markdown",
      "metadata": {
        "colab_type": "text",
        "id": "n4ux70y4fZYS"
      },
      "source": [
        "<table class=\"tfo-notebook-buttons\" align=\"left\">\n",
        "  <td>\n",
        "    <a target=\"_blank\" href=\"https://www.example.org/openfermion/tutorials/bosonic_operators\"><img src=\"https://www.tensorflow.org/images/tf_logo_32px.png\" />View on QuantumLib</a>\n",
        "  </td>\n",
        "  <td>\n",
        "    <a target=\"_blank\" href=\"https://colab.research.google.com/github/quantumlib/OpenFermion/blob/docs/docs/tutorials/bosonic_operators.ipynb\"><img src=\"https://www.tensorflow.org/images/colab_logo_32px.png\" />Run in Google Colab</a>\n",
        "  </td>\n",
        "  <td>\n",
        "    <a target=\"_blank\" href=\"https://github.com/quantumlib/OpenFermion/blob/docs/docs/tutorials/bosonic_operators.ipynb\"><img src=\"https://www.tensorflow.org/images/GitHub-Mark-32px.png\" />View source on GitHub</a>\n",
        "  </td>\n",
        "  <td>\n",
        "    <a href=\"https://storage.googleapis.com/tensorflow_docs/OpenFermion/docs/tutorials/bosonic_operators.ipynb\"><img src=\"https://www.tensorflow.org/images/download_logo_32px.png\" />Download notebook</a>\n",
        "  </td>\n",
        "</table>"
      ]
    },
    {
      "cell_type": "markdown",
      "metadata": {
        "colab_type": "text",
        "id": "uOJXfrHjfszs"
      },
      "source": [
        "## Setup\n",
        "\n",
        "Install the OpenFermion package:"
      ]
    },
    {
      "cell_type": "code",
      "execution_count": null,
      "metadata": {
        "colab": {},
        "colab_type": "code",
        "id": "r9LJOMylftnz"
      },
      "outputs": [],
      "source": [
        "!pip install openfermion"
      ]
    },
    {
      "cell_type": "markdown",
      "metadata": {
        "colab_type": "text",
        "id": "jasJk5G9fAfK"
      },
      "source": [
        "## The `BosonOperator`"
      ]
    },
    {
      "cell_type": "markdown",
      "metadata": {
        "colab_type": "text",
        "id": "dQ3Gwu-IfAfL"
      },
      "source": [
        "Bosonic systems, like Fermionic systems, are expressed using the bosonic creation and annihilation operators $b^\\dagger_k$ and $b_k$ respectively. Unlike fermions, however, which satisfy the Pauli exclusion principle and thus are distinguished by the canonical fermionic anticommutation relations, the bosonic ladder operators instead satisfy a set of commutation relations:\n",
        "\n",
        "$$\n",
        "\\begin{align}\n",
        "& [b_i^\\dagger, b_j^\\dagger] = 0, ~~~ [b_i, b_j] = 0, ~~~ [b_i, b^\\dagger_j] = \\delta_{ij}\n",
        "\\end{align}\n",
        "$$\n",
        "\n",
        "Any weighted sums of products of these operators are represented with the `BosonOperator` data structure in OpenFermion. Similarly to when we introduced the `FermionOperator`, the following are examples of valid `BosonOperator`s:\n",
        "\n",
        "$$\n",
        "\\begin{align}\n",
        "& a_1 \\nonumber \\\\\n",
        "& 1.7 b^\\dagger_3 \\nonumber \\\\\n",
        "&-1.7 \\, b^\\dagger_3 b_1 \\nonumber \\\\\n",
        "&(1 + 2i) \\, b^\\dagger_3 b^\\dagger_4 b_1 b_9 \\nonumber \\\\\n",
        "&(1 + 2i) \\, b^\\dagger_3 b^\\dagger_4 b_1 b_9 - 1.7 \\, b^\\dagger_3 b_1 \\nonumber\n",
        "\\end{align}\n",
        "$$\n",
        "\n",
        "The `BosonOperator` class is contained in `ops/_boson_operators.py`. The `BosonOperator` is derived from the `SymbolicOperator`, the same class that derives the `FermionOperator`. As such, the details of the class implementation are identical - as in the fermion case, the class is implemented as hash table (python dictionary). The keys of the dictionary encode the strings of ladder operators and values of the dictionary store the coefficients - the strings are subsequently encoded as a tuple of 2-tuples which we refer to as the \"terms tuple\".\n",
        "\n",
        "\n",
        "Each ladder operator is represented by a 2-tuple. The first element of the 2-tuple is an int indicating the quantum mode on which the ladder operator acts. The second element of the 2-tuple is Boole: 1 represents raising and 0 represents lowering. For instance, $b^\\dagger_8$ is represented in a 2-tuple as $(8, 1)$. Note that indices start at 0 and the identity operator is an empty list. \n",
        "\n",
        "$$\n",
        "\\begin{align}\n",
        "I & \\mapsto () \\nonumber \\\\\n",
        "b_1 & \\mapsto ((1, 0),) \\nonumber \\\\\n",
        "b^\\dagger_3 & \\mapsto ((3, 1),) \\nonumber \\\\\n",
        "b^\\dagger_3 b_1 & \\mapsto ((3, 1), (1, 0)) \\nonumber \\\\\n",
        "b^\\dagger_3 b^\\dagger_4 b_1  b_9 & \\mapsto ((3, 1), (4, 1),  (1, 0), (9, 0)) \\nonumber\n",
        "\\end{align}\n",
        "$$\n",
        "\n",
        "Alternatively, the `BosonOperator` supports the string-based syntax introduced in the `FermionOperator`; in this case, the terms are separated by spaces, with the integer corresponding to the quantum mode the operator acts on, and `'^'` indicating the Hermitian conjugate:\n",
        "\n",
        "$$\n",
        "\\begin{align}\n",
        "I & \\mapsto \\textrm{\"\"} \\nonumber \\\\\n",
        "b_1 & \\mapsto \\textrm{\"1\"} \\nonumber \\\\\n",
        "b^\\dagger_3 & \\mapsto \\textrm{\"3^\"} \\nonumber \\\\\n",
        "b^\\dagger_3 b_1 & \\mapsto \\textrm{\"3^}\\;\\textrm{1\"} \\nonumber \\\\\n",
        "b^\\dagger_3 b^\\dagger_4  b_1 b_9  & \\mapsto \\textrm{\"3^}\\;\\textrm{4^}\\;\\textrm{1}\\;\\textrm{9\"} \\nonumber\n",
        "\\end{align}\n",
        "$$\n",
        "\n",
        "<div class=\"alert alert-info\">\n",
        "   Note that, unlike the `FermionOperator`, the bosonic creation operators of different indices commute. As a result, the `BosonOperator` automatically sorts groups of annihilation and creation operators in ascending order of the modes they act on.\n",
        "</div>\n",
        "\n",
        "\n",
        "Let's initialize our first term! We do it two different ways below."
      ]
    },
    {
      "cell_type": "code",
      "execution_count": null,
      "metadata": {
        "colab": {},
        "colab_type": "code",
        "id": "Jfh0pOrWfAfM"
      },
      "outputs": [],
      "source": [
        "from openfermion.ops import BosonOperator\n",
        "\n",
        "my_term = BosonOperator(((3, 1), (5, 0), (4, 1), (1, 0)))\n",
        "print(my_term)\n",
        "\n",
        "my_term = BosonOperator('3^ 5 4^ 1')\n",
        "print(my_term)"
      ]
    },
    {
      "cell_type": "markdown",
      "metadata": {
        "colab_type": "text",
        "id": "kM-BzAoPfAfS"
      },
      "source": [
        "Note the printed order differs from the code, since bosonic operators of different indices commute past each other.\n",
        "\n",
        "The preferred way to specify the coefficient in openfermion is to provide an optional coefficient argument. If not provided, the coefficient defaults to 1. In the code below, the first method is preferred. The multiplication in the second method actually creates a copy of the term, which introduces some additional cost. All inplace operands (such as +=) modify classes whereas binary operands such as + create copies.\n",
        "\n",
        "The additive and multiplicative identities can also be created:\n",
        "\n",
        "* `BosonOperator(())` and `BosonOperator('')` initialises the identity (`BosonOperator.identity()`).\n",
        "* `BosonOperator()` and `BosonOperator()` initialises the zero operator (`BosonOperator.zero()`)."
      ]
    },
    {
      "cell_type": "code",
      "execution_count": null,
      "metadata": {
        "colab": {},
        "colab_type": "code",
        "id": "L-Z1KqRXfAfT"
      },
      "outputs": [],
      "source": [
        "good_way_to_initialize = BosonOperator('3^ 1', -1.7)\n",
        "print(good_way_to_initialize)\n",
        "\n",
        "bad_way_to_initialize = -1.7 * BosonOperator('3^ 1')\n",
        "print(bad_way_to_initialize)\n",
        "\n",
        "identity = BosonOperator('')\n",
        "print(identity == BosonOperator.identity())\n",
        "print(identity)\n",
        "\n",
        "zero_operator = BosonOperator()\n",
        "print(zero_operator == BosonOperator.zero())\n",
        "print(zero_operator)"
      ]
    },
    {
      "cell_type": "markdown",
      "metadata": {
        "colab_type": "text",
        "id": "eG-DuzZCfAfX"
      },
      "source": [
        "Note that `BosonOperator` has only one attribute: .terms. This attribute is the dictionary which stores the term tuples."
      ]
    },
    {
      "cell_type": "code",
      "execution_count": null,
      "metadata": {
        "colab": {},
        "colab_type": "code",
        "id": "mMHPt1kdfAfX",
        "scrolled": true
      },
      "outputs": [],
      "source": [
        "my_operator = BosonOperator('4^ 1^ 3 9', 1. + 2.j)\n",
        "print(my_operator)\n",
        "print(my_operator.terms)"
      ]
    },
    {
      "cell_type": "markdown",
      "metadata": {
        "colab_type": "text",
        "id": "hlcI3vKBfAfb"
      },
      "source": [
        "### Methods and functions that act on the `BosonOperator`"
      ]
    },
    {
      "cell_type": "markdown",
      "metadata": {
        "colab_type": "text",
        "id": "RsnPq3oRfAfc"
      },
      "source": [
        "There are various functions and methods that act on the `BosonOperator`; these include the ability to normal order, double check if the operator is Hermitian, and calculate the Hermitian conjugate."
      ]
    },
    {
      "cell_type": "code",
      "execution_count": null,
      "metadata": {
        "colab": {},
        "colab_type": "code",
        "id": "JCIyXjcRfAfc"
      },
      "outputs": [],
      "source": [
        "from openfermion.utils import hermitian_conjugated, is_hermitian, normal_ordered"
      ]
    },
    {
      "cell_type": "markdown",
      "metadata": {
        "colab_type": "text",
        "id": "JqVuzAyefAfg"
      },
      "source": [
        "`normal_ordered_boson` applies the bosonic commutation relations to write the operator using only normal-ordered terms; that is, that all creation operators are to the left of annihilation operators:"
      ]
    },
    {
      "cell_type": "code",
      "execution_count": null,
      "metadata": {
        "colab": {},
        "colab_type": "code",
        "id": "PjncSn8KfAfh"
      },
      "outputs": [],
      "source": [
        "H = BosonOperator('0 0^', 1. + 2.j)\n",
        "H.is_normal_ordered()"
      ]
    },
    {
      "cell_type": "code",
      "execution_count": null,
      "metadata": {
        "colab": {},
        "colab_type": "code",
        "id": "Wc_epM5afAfl"
      },
      "outputs": [],
      "source": [
        "normal_ordered(BosonOperator('0 0^', 1. + 2.j))"
      ]
    },
    {
      "cell_type": "markdown",
      "metadata": {
        "colab_type": "text",
        "id": "-juIqteifAfq"
      },
      "source": [
        "We can also use a boson operator method to check if the operator converves the particle number - that is, for each qumode, the number of annihilation operators equals the number of creation operators."
      ]
    },
    {
      "cell_type": "code",
      "execution_count": null,
      "metadata": {
        "colab": {},
        "colab_type": "code",
        "id": "EmO0z3_efAfq"
      },
      "outputs": [],
      "source": [
        "H.is_boson_preserving()"
      ]
    },
    {
      "cell_type": "code",
      "execution_count": null,
      "metadata": {
        "colab": {},
        "colab_type": "code",
        "id": "v3A8Aj-RfAfu"
      },
      "outputs": [],
      "source": [
        "H = BosonOperator('0 0^ 1^ ', 1. + 2.j)\n",
        "H.is_boson_preserving()"
      ]
    },
    {
      "cell_type": "markdown",
      "metadata": {
        "colab_type": "text",
        "id": "2Y6ILriLfAfx"
      },
      "source": [
        "The Hermitian conjugated function returns the Hermitian conjugate of the operator, and its hermiticity can be checked using `is_hermitian`:"
      ]
    },
    {
      "cell_type": "code",
      "execution_count": null,
      "metadata": {
        "colab": {},
        "colab_type": "code",
        "id": "tu_VHb6OfAfy"
      },
      "outputs": [],
      "source": [
        "is_hermitian(H)"
      ]
    },
    {
      "cell_type": "code",
      "execution_count": null,
      "metadata": {
        "colab": {},
        "colab_type": "code",
        "id": "qJDKhAGffAf1"
      },
      "outputs": [],
      "source": [
        "hermitian_conjugated(H)"
      ]
    },
    {
      "cell_type": "code",
      "execution_count": null,
      "metadata": {
        "colab": {},
        "colab_type": "code",
        "id": "wW2npGJafAf5",
        "scrolled": true
      },
      "outputs": [],
      "source": [
        "H = BosonOperator('0 1^', 1/2.)\n",
        "H += BosonOperator('1 0^', 1/2.)\n",
        "print(is_hermitian(H))\n",
        "print(hermitian_conjugated(H))"
      ]
    },
    {
      "cell_type": "markdown",
      "metadata": {
        "colab_type": "text",
        "id": "Q-GOXywSfAgC"
      },
      "source": [
        "## The `QuadOperator`"
      ]
    },
    {
      "cell_type": "markdown",
      "metadata": {
        "colab_type": "text",
        "id": "ZuatEFRsfAgD"
      },
      "source": [
        "Using the bosonic ladder operators, it is common to define the canonical position and momentum operators $\\hat{q}$ and $\\hat{p}$:\n",
        "\n",
        "$$ \\hat{q}_i = \\sqrt{\\frac{\\hbar}{2}}(\\hat{b}_i+\\hat{b}^\\dagger_i), ~~~ \\hat{p}_i = -i\\sqrt{\\frac{\\hbar}{2}}(\\hat{b}_i-\\hat{b}^\\dagger_i)$$\n",
        "\n",
        "These operators are Hermitian, and are referred to as the phase space quadrature operators. They satisfy the canonical commutation relation\n",
        "\n",
        "$$ [\\hat{q}_i, \\hat{p}_j] = \\delta_{ij}i\\hbar$$\n",
        "\n",
        "where the value of $\\hbar$ depends on convention, often taking values $\\hbar=0.5$, $1$, or $2$.\n",
        "\n",
        "In OpenFermion, the quadrature operators are represented by the `QuadOperator` class, and stored as a dictionary of tuples (as keys) and coefficients (as values). For example, the multi-mode quadrature operator $q_0 p_1 q_3$ is represented internally as `((0, 'q'), (1, 'p'), (3, 'q'))`. Alternatively, `QuadOperators` also support string input - using string input, the same operator is described by `'q0 p1 q3'`."
      ]
    },
    {
      "cell_type": "code",
      "execution_count": null,
      "metadata": {
        "colab": {},
        "colab_type": "code",
        "id": "3RRI9ut8fAgD"
      },
      "outputs": [],
      "source": [
        "from openfermion.ops import QuadOperator\n",
        "\n",
        "H = QuadOperator('q0 p1 q3')\n",
        "print(H)\n",
        "print(H.terms)\n",
        "\n",
        "H2 = QuadOperator('q3 p4', 3.17)\n",
        "H2 -= 77. * H\n",
        "print('')\n",
        "print(H2)"
      ]
    },
    {
      "cell_type": "markdown",
      "metadata": {
        "colab_type": "text",
        "id": "ed4Sm-I8fAgG"
      },
      "source": [
        "Note that quadrature operators of different indices commute; as such, like the `BosonOperator`, by default we sort quadrature operators such that the operators acting on the lowest numbered mode appear to the left."
      ]
    },
    {
      "cell_type": "markdown",
      "metadata": {
        "colab_type": "text",
        "id": "rkW-mJ0OfAgG"
      },
      "source": [
        "### Methods and functions that act on the `QuadOperator`"
      ]
    },
    {
      "cell_type": "markdown",
      "metadata": {
        "colab_type": "text",
        "id": "ZzPPyJIhfAgH"
      },
      "source": [
        "Like the `BosonOperator`, there are various functions and methods that act on the `QuadOperator`; these include the ability to normal order, double check if the operator is Hermitian, and calculate the Hermitian conjugate."
      ]
    },
    {
      "cell_type": "code",
      "execution_count": null,
      "metadata": {
        "colab": {},
        "colab_type": "code",
        "id": "qIygv158fAgI"
      },
      "outputs": [],
      "source": [
        "from openfermion.utils import hermitian_conjugated, is_hermitian"
      ]
    },
    {
      "cell_type": "markdown",
      "metadata": {
        "colab_type": "text",
        "id": "B1N0tfxmfAgL"
      },
      "source": [
        "`normal_ordered_quad` is an arbitrary convention chosen in OpenFermion that allows us to compare two quadrature operators that might be equivalent, but written in different forms. It is simply defined as a quadrature operator that has all of the position operators $\\hat{q}$ to the left of the momentum operators $\\hat{q}$. All quadrature operators can be placed in this 'normal form' by making use of the canonical commutation relation."
      ]
    },
    {
      "cell_type": "code",
      "execution_count": null,
      "metadata": {
        "colab": {},
        "colab_type": "code",
        "id": "jJQV3-9cfAgL"
      },
      "outputs": [],
      "source": [
        "H = QuadOperator('p0 q0', 1. + 2.j)\n",
        "H.is_normal_ordered()"
      ]
    },
    {
      "cell_type": "code",
      "execution_count": null,
      "metadata": {
        "colab": {},
        "colab_type": "code",
        "id": "6Ro4rgyBfAgO"
      },
      "outputs": [],
      "source": [
        "normal_ordered(H)"
      ]
    },
    {
      "cell_type": "markdown",
      "metadata": {
        "colab_type": "text",
        "id": "V21ahOQCfAgR"
      },
      "source": [
        "By default, we assume the value $\\hbar=1$ in the canonical commutation relation, but this can be modified by passing the `hbar` keyword argument to the function:"
      ]
    },
    {
      "cell_type": "code",
      "execution_count": null,
      "metadata": {
        "colab": {},
        "colab_type": "code",
        "id": "JIY0BhWbfAgR"
      },
      "outputs": [],
      "source": [
        "normal_ordered(H, hbar=2)"
      ]
    },
    {
      "cell_type": "markdown",
      "metadata": {
        "colab_type": "text",
        "id": "7xppumITfAgU"
      },
      "source": [
        "We can also use a quad operator method to check if the operator is **Gaussian** - that is, all terms in the quad operator are of quadratic order or lower:"
      ]
    },
    {
      "cell_type": "code",
      "execution_count": null,
      "metadata": {
        "colab": {},
        "colab_type": "code",
        "id": "lOjrLNMQfAgU"
      },
      "outputs": [],
      "source": [
        "H = QuadOperator('p0 q0', 1. + 2.j)\n",
        "H.is_gaussian()"
      ]
    },
    {
      "cell_type": "code",
      "execution_count": null,
      "metadata": {
        "colab": {},
        "colab_type": "code",
        "id": "2-PxSsBzfAgX"
      },
      "outputs": [],
      "source": [
        "H = QuadOperator('p0 q0 q1', 1. + 2.j)\n",
        "H.is_gaussian()"
      ]
    },
    {
      "cell_type": "markdown",
      "metadata": {
        "colab_type": "text",
        "id": "zdfl0Z2efAgZ"
      },
      "source": [
        "The Hermitian conjugated function returns the Hermitian conjugate of the operator, and its hermiticity can be checked using `is_hermitian`:"
      ]
    },
    {
      "cell_type": "code",
      "execution_count": null,
      "metadata": {
        "colab": {},
        "colab_type": "code",
        "id": "jp8k71x6fAgZ"
      },
      "outputs": [],
      "source": [
        "H = QuadOperator('p0 q1 p1', 1-2j)\n",
        "hermitian_conjugated(H)"
      ]
    },
    {
      "cell_type": "code",
      "execution_count": null,
      "metadata": {
        "colab": {},
        "colab_type": "code",
        "id": "5TNGEzs8fAgb",
        "scrolled": true
      },
      "outputs": [],
      "source": [
        "H = QuadOperator('p0 q0', 1/2.)\n",
        "H += QuadOperator('q0 p0', -1/2.)\n",
        "print(is_hermitian(H))\n",
        "print(hermitian_conjugated(H))"
      ]
    },
    {
      "cell_type": "code",
      "execution_count": null,
      "metadata": {
        "colab": {},
        "colab_type": "code",
        "id": "O47HDOpQfAgd"
      },
      "outputs": [],
      "source": [
        "H = QuadOperator('p0 q0', 1/2.)\n",
        "H += QuadOperator('q0 p0', 1/2.)\n",
        "print(is_hermitian(H))\n",
        "print(hermitian_conjugated(H))"
      ]
    },
    {
      "cell_type": "code",
      "execution_count": null,
      "metadata": {
        "colab": {},
        "colab_type": "code",
        "id": "gPGPRq-AfAgf"
      },
      "outputs": [],
      "source": [
        "hermitian_conjugated(H)"
      ]
    },
    {
      "cell_type": "markdown",
      "metadata": {
        "colab_type": "text",
        "id": "C2bDOdKzfAgi"
      },
      "source": [
        "## Converting between quadrature operators and bosonic operators"
      ]
    },
    {
      "cell_type": "markdown",
      "metadata": {
        "colab_type": "text",
        "id": "o-oXAcWwfAgi"
      },
      "source": [
        "Converting between bosonic ladder operators and quadrature operators is simple - we just apply the definition of the $\\hat{q}$ and $\\hat{p}$ operators in terms of $\\hat{b}$ and $\\hat{b}^\\dagger$. Two functions are provided to do this automatically; `get_quad_operator` and `get_boson_operator`:"
      ]
    },
    {
      "cell_type": "code",
      "execution_count": null,
      "metadata": {
        "colab": {},
        "colab_type": "code",
        "id": "LMy7dmOLfAgj"
      },
      "outputs": [],
      "source": [
        "from openfermion.transforms import get_boson_operator, get_quad_operator"
      ]
    },
    {
      "cell_type": "code",
      "execution_count": null,
      "metadata": {
        "colab": {},
        "colab_type": "code",
        "id": "HXGwFVx6fAgm",
        "scrolled": true
      },
      "outputs": [],
      "source": [
        "H = QuadOperator('p0 q0', 1/2.)\n",
        "H += QuadOperator('q0 p0', 1/2.)\n",
        "H"
      ]
    },
    {
      "cell_type": "code",
      "execution_count": null,
      "metadata": {
        "colab": {},
        "colab_type": "code",
        "id": "ifd8RTm5fAgo"
      },
      "outputs": [],
      "source": [
        "get_boson_operator(H)"
      ]
    },
    {
      "cell_type": "markdown",
      "metadata": {
        "colab_type": "text",
        "id": "07GYhmY0fAgr"
      },
      "source": [
        "Note that, since these conversions are dependent on the value of $\\hbar$ chosen, both accept a `hbar` keyword argument. As before, if not specified, the default value of $\\hbar$ is `hbar=1`."
      ]
    },
    {
      "cell_type": "code",
      "execution_count": null,
      "metadata": {
        "colab": {},
        "colab_type": "code",
        "id": "sIg6opy6fAgr"
      },
      "outputs": [],
      "source": [
        "H = BosonOperator('0 0^')\n",
        "normal_ordered(get_quad_operator(H, hbar=0.5), hbar=0.5)"
      ]
    },
    {
      "cell_type": "markdown",
      "metadata": {
        "colab_type": "text",
        "id": "UKy8Zo3xfAgu"
      },
      "source": [
        "## Weyl quantization and symmetric ordering"
      ]
    },
    {
      "cell_type": "markdown",
      "metadata": {
        "colab_type": "text",
        "id": "Y7rleghlfAgu"
      },
      "source": [
        "We also provide support for the Weyl quantization - this maps a polynomial function of the form\n",
        "\n",
        "$$f(q_0,\\dots,q_{N-1},p_0\\dots,p_{N-1})=q_0^{m_0}\\cdots q_{N-1}^{m_{N-1}} p_0^{m_0}\\cdots p_{N-1}^{m_{N-1}}$$\n",
        "\n",
        "on the phase space to the corresponding combination of quadrature operators $\\hat{q}$ and $\\hat{p}$. To do so, we make use of the McCoy formula,\n",
        "\n",
        "$$q^m p^n \\rightarrow \\frac{1}{2^n} \\sum_{r=0}^{n} \\binom{n}{r} q^r p^m q^{n-r}.$$"
      ]
    },
    {
      "cell_type": "code",
      "execution_count": null,
      "metadata": {
        "colab": {},
        "colab_type": "code",
        "id": "C-BTA8mbfAgv"
      },
      "outputs": [],
      "source": [
        "from openfermion.transforms import weyl_polynomial_quantization, symmetric_ordering"
      ]
    },
    {
      "cell_type": "markdown",
      "metadata": {
        "colab_type": "text",
        "id": "E4iiTzHVfAgx"
      },
      "source": [
        "For `weyl_polynomial_quantization`, the polynomial function in the phase space is provided in the form of a string,    where 'q' or 'p' is the phase space quadrature variable, the integer directly following is the mode it is with respect to, and '^2' is the polynomial power. If the power is not provided, it is assumed to be '^1'."
      ]
    },
    {
      "cell_type": "code",
      "execution_count": null,
      "metadata": {
        "colab": {},
        "colab_type": "code",
        "id": "7AXBMgrafAgy"
      },
      "outputs": [],
      "source": [
        "weyl_polynomial_quantization('q0 p0')"
      ]
    },
    {
      "cell_type": "code",
      "execution_count": null,
      "metadata": {
        "colab": {},
        "colab_type": "code",
        "id": "y_Db-lOIfAg0",
        "scrolled": true
      },
      "outputs": [],
      "source": [
        "weyl_polynomial_quantization('q0^2 p0^3 q1^3')"
      ]
    },
    {
      "cell_type": "markdown",
      "metadata": {
        "colab_type": "text",
        "id": "E7znRlHafAg3"
      },
      "source": [
        "McCoy's formula is also used to provide a function that returns the symmetric ordering of a `BosonOperator` or `QuadOperator`, $S(\\hat{O})$. Note that $S(\\hat{O})\\neq \\hat{O}$:"
      ]
    },
    {
      "cell_type": "code",
      "execution_count": null,
      "metadata": {
        "colab": {},
        "colab_type": "code",
        "id": "qyxBDJcsfAg3"
      },
      "outputs": [],
      "source": [
        "symmetric_ordering(QuadOperator('q0 p0'))"
      ]
    },
    {
      "cell_type": "markdown",
      "metadata": {
        "colab_type": "text",
        "id": "9DUxwPCJfAg5"
      },
      "source": [
        "Consider the symmetric ordering of the square of the bosonic number operator, $\\hat{n} = \\hat{b}^\\dagger \\hat{b}$:"
      ]
    },
    {
      "cell_type": "code",
      "execution_count": null,
      "metadata": {
        "colab": {},
        "colab_type": "code",
        "id": "hP8DKq7GfAg6"
      },
      "outputs": [],
      "source": [
        "from openfermion.utils import number_operator\n",
        "n2 = number_operator(1, parity=1) * number_operator(1, parity=1)"
      ]
    },
    {
      "cell_type": "code",
      "execution_count": null,
      "metadata": {
        "colab": {},
        "colab_type": "code",
        "id": "cgPJjMT_fAg8"
      },
      "outputs": [],
      "source": [
        "n2"
      ]
    },
    {
      "cell_type": "code",
      "execution_count": null,
      "metadata": {
        "colab": {},
        "colab_type": "code",
        "id": "e-No5gXIfAg_"
      },
      "outputs": [],
      "source": [
        "Sn2 = symmetric_ordering(n2)\n",
        "Sn2"
      ]
    },
    {
      "cell_type": "markdown",
      "metadata": {
        "colab_type": "text",
        "id": "KXjybPBUfAhB"
      },
      "source": [
        "We can use `normal_ordered_boson` to simplify this result:"
      ]
    },
    {
      "cell_type": "code",
      "execution_count": null,
      "metadata": {
        "colab": {},
        "colab_type": "code",
        "id": "uOCJiGdcfAhC"
      },
      "outputs": [],
      "source": [
        "Sn2 = normal_ordered(Sn2)\n",
        "Sn2"
      ]
    },
    {
      "cell_type": "markdown",
      "metadata": {
        "colab_type": "text",
        "id": "BYiMvUiafAhE"
      },
      "source": [
        "Therefore $S(\\hat{n}) = \\hat{b}^\\dagger \\hat{b}^\\dagger \\hat{b}\\hat{b} + 2\\hat{b}^\\dagger \\hat{b} + 0.5$. This is equivalent to $\\hat{n}^2+\\hat{n}+0.5$:"
      ]
    },
    {
      "cell_type": "code",
      "execution_count": null,
      "metadata": {
        "colab": {},
        "colab_type": "code",
        "id": "PwnzsWJtfAhE"
      },
      "outputs": [],
      "source": [
        "Sn2 == normal_ordered(n2 + number_operator(1, parity=1) + 0.5*BosonOperator.identity())"
      ]
    },
    {
      "cell_type": "markdown",
      "metadata": {
        "colab_type": "text",
        "id": "Ufu2mnL6fAhJ"
      },
      "source": [
        "## Bose-Hubbard Hamiltonian\n",
        "\n",
        "In addition to the bosonic operators discussed above, we also provide Bosonic Hamiltonians that describe specific models. The Bose-Hubbard Hamiltonian over a discrete lattice or grid described by nodes $V=\\{0,1,\\dots,N-1\\}$ is described by:\n",
        "\n",
        "$$H = - t \\sum_{\\langle i, j \\rangle} b_i^\\dagger b_{j + 1}\n",
        "         + \\frac{U}{2} \\sum_{k=1}^{N-1} b_k^\\dagger b_k (b_k^\\dagger b_k - 1)\n",
        "         - \\mu \\sum_{k=1}^N b_k^\\dagger b_k\n",
        "         + V \\sum_{\\langle i, j \\rangle} b_i^\\dagger b_i b_j^\\dagger b_j.$$\n",
        "         \n",
        "where\n",
        "\n",
        "- The indices $\\langle i, j \\rangle$ run over pairs\n",
        "  $i$ and $j$ of adjacenct nodes (nodes that are connected) in the grid\n",
        "- $t$ is the tunneling amplitude\n",
        "- $U$ is the on-site interaction potential\n",
        "- $\\mu$ is the chemical potential\n",
        "- $V$ is the dipole or nearest-neighbour interaction potential\n",
        "\n",
        "The Bose-Hubbard Hamiltonian function provided in OpenFermion models a Bose-Hubbard model on a two-dimensional grid, with dimensions given by `[x_dimension, y_dimension]`. It has the form\n",
        "\n",
        "```python\n",
        "bose_hubbard(x_dimension, y_dimension, tunneling, interaction,\n",
        "                 chemical_potential=0., dipole=0., periodic=True)\n",
        "```\n",
        "\n",
        "where\n",
        "\n",
        "- `x_dimension` (int): The width of the grid.\n",
        "- `y_dimension` (int): The height of the grid.\n",
        "- `tunneling` (float): The tunneling amplitude $t$.\n",
        "- `interaction` (float): The attractive local interaction $U$.\n",
        "- `chemical_potential` (float, optional): The chemical potential $\\mu$ at each site. Default value is 0.\n",
        "- `periodic` (bool, optional): If True, add periodic boundary conditions. Default is True.\n",
        "- `dipole` (float): The attractive dipole interaction strength $V$.\n",
        "\n",
        "Below is an example of a Bose-Hubbard Hamiltonian constructed in OpenFermion."
      ]
    },
    {
      "cell_type": "code",
      "execution_count": null,
      "metadata": {
        "colab": {},
        "colab_type": "code",
        "id": "BcKzvj5yfAhJ"
      },
      "outputs": [],
      "source": [
        "from openfermion.hamiltonians import bose_hubbard, fermi_hubbard\n",
        "bose_hubbard(2, 2, 1, 1)"
      ]
    },
    {
      "cell_type": "markdown",
      "metadata": {
        "colab_type": "text",
        "id": "Kw7wodA3fAhL"
      },
      "source": [
        "## Sparse bosonic operators"
      ]
    },
    {
      "cell_type": "markdown",
      "metadata": {
        "colab_type": "text",
        "id": "V8zpwH5CfAhM"
      },
      "source": [
        "Like the fermionic operators, OpenFermion contains the capability to represent bosonic operators as a sparse matrix (`sparse.csc_matrix`). However, as the fermionic operators can be represented as finite matrices, this is not the case of bosonic systems, as they inhabit a infinite-dimensional Fock space. Instead, a integer truncation value $N$ need to be provided - the returned sparse operator will be of size $N^{M}\\times N^{M}$, where $M$ is the number of modes in the system, and acts on the truncated Fock basis $\\{\\left|{0}\\right\\rangle, \\left|{1}\\right\\rangle, \\dots, \\left|{N-1}\\right\\rangle\\}$."
      ]
    },
    {
      "cell_type": "code",
      "execution_count": null,
      "metadata": {
        "colab": {},
        "colab_type": "code",
        "id": "E52mOsXnfAhM"
      },
      "outputs": [],
      "source": [
        "from openfermion.utils import boson_operator_sparse"
      ]
    },
    {
      "cell_type": "markdown",
      "metadata": {
        "colab_type": "text",
        "id": "MGfVaC_jfAhP"
      },
      "source": [
        "The function `boson_operator_sparse` acts on both `BosonOperator`s and `QuadOperator`s:"
      ]
    },
    {
      "cell_type": "code",
      "execution_count": null,
      "metadata": {
        "colab": {},
        "colab_type": "code",
        "id": "NfWxy09UfAhQ"
      },
      "outputs": [],
      "source": [
        "H = boson_operator_sparse(BosonOperator('0^ 0'), 5)"
      ]
    },
    {
      "cell_type": "code",
      "execution_count": null,
      "metadata": {
        "colab": {},
        "colab_type": "code",
        "id": "zyVg2x3qfAhS"
      },
      "outputs": [],
      "source": [
        "H.toarray()"
      ]
    },
    {
      "cell_type": "code",
      "execution_count": null,
      "metadata": {
        "colab": {},
        "colab_type": "code",
        "id": "KMBCXl48fAhV"
      },
      "outputs": [],
      "source": [
        "H = boson_operator_sparse(QuadOperator('q0'), 5, hbar=1)\n",
        "H.toarray()"
      ]
    }
  ],
  "metadata": {
    "colab": {
      "name": "bosonic_operators.ipynb",
      "private_outputs": true,
      "provenance": [],
      "toc_visible": true
    },
    "kernelspec": {
      "display_name": "Python 3",
      "language": "python",
      "name": "python3"
    }
  },
  "nbformat": 4,
  "nbformat_minor": 0
}
