{
 "cells": [
  {
   "cell_type": "markdown",
   "metadata": {
    "id": "w59P3OPFw9Z0"
   },
   "source": [
    "##### Copyright 2020 The OpenFermion Developers"
   ]
  },
  {
   "cell_type": "code",
   "execution_count": null,
   "metadata": {
    "cellView": "form",
    "id": "W37UD0Shw-lP"
   },
   "outputs": [],
   "source": [
    "#@title Licensed under the Apache License, Version 2.0 (the \"License\");\n",
    "# you may not use this file except in compliance with the License.\n",
    "# You may obtain a copy of the License at\n",
    "#\n",
    "# https://www.apache.org/licenses/LICENSE-2.0\n",
    "#\n",
    "# Unless required by applicable law or agreed to in writing, software\n",
    "# distributed under the License is distributed on an \"AS IS\" BASIS,\n",
    "# WITHOUT WARRANTIES OR CONDITIONS OF ANY KIND, either express or implied.\n",
    "# See the License for the specific language governing permissions and\n",
    "# limitations under the License."
   ]
  },
  {
   "cell_type": "markdown",
   "metadata": {
    "id": "96257ca60c89"
   },
   "source": [
    "# Circuits 2: Linear Trotter steps of diagonal Coulomb operators"
   ]
  },
  {
   "cell_type": "markdown",
   "metadata": {
    "id": "vSnKxycVxJXd"
   },
   "source": [
    "<table class=\"tfo-notebook-buttons\" align=\"left\">\n",
    "  <td>\n",
    "    <a target=\"_blank\" href=\"https://quantumai.google/openfermion/tutorials/circuits_2_diagonal_coulomb_trotter\"><img src=\"https://quantumai.google/site-assets/images/buttons/quantumai_logo_1x.png\" />View on QuantumAI</a>\n",
    "  </td>\n",
    "  <td>\n",
    "    <a target=\"_blank\" href=\"https://colab.research.google.com/github/quantumlib/OpenFermion/blob/master/docs/tutorials/circuits_2_diagonal_coulomb_trotter.ipynb\"><img src=\"https://quantumai.google/site-assets/images/buttons/colab_logo_1x.png\" />Run in Google Colab</a>\n",
    "  </td>\n",
    "  <td>\n",
    "    <a target=\"_blank\" href=\"https://github.com/quantumlib/OpenFermion/blob/master/docs/tutorials/circuits_2_diagonal_coulomb_trotter.ipynb\"><img src=\"https://quantumai.google/site-assets/images/buttons/github_logo_1x.png\" />View source on GitHub</a>\n",
    "  </td>\n",
    "  <td>\n",
    "    <a href=\"https://storage.googleapis.com/tensorflow_docs/OpenFermion/docs/tutorials/circuits_2_diagonal_coulomb_trotter.ipynb\"><img src=\"https://quantumai.google/site-assets/images/buttons/download_icon_1x.png\" />Download notebook</a>\n",
    "  </td>\n",
    "</table>"
   ]
  },
  {
   "cell_type": "markdown",
   "metadata": {
    "id": "jM3fwTUYxURE"
   },
   "source": [
    "## Setup\n",
    "\n",
    "Install the OpenFermion package:"
   ]
  },
  {
   "cell_type": "code",
   "execution_count": null,
   "metadata": {
    "id": "PY93DfyuxVFL"
   },
   "outputs": [],
   "source": [
    "try:\n",
    "    import openfermion\n",
    "except ImportError:\n",
    "    !pip install git+https://github.com/quantumlib/OpenFermion.git@master#egg=openfermion"
   ]
  },
  {
   "cell_type": "markdown",
   "metadata": {
    "id": "eab8786a9b37"
   },
   "source": [
    "## Electronic structure Hamiltonians with diagonal Coulomb operators\n",
    "\n",
    "When expressed in an arbitrary basis the molecular electronic structure Hamiltonian takes the form\n",
    "$$\n",
    "H = \\sum_{pq} h_{pq} a^\\dagger_p a_q + \\sum_{pqrs} h_{pqrs} a^\\dagger_p a^\\dagger_q a_r a_s\n",
    "$$\n",
    "where the coefficients $h_{pq}$ and $h_{pqrs}$ are determined by integrals taken over the basis functions. Note that this Hamiltonian has $O(N^4)$ terms which tends to make its simulation challenging on near-term devices.\n",
    "\n",
    "However, as discussed in [Phys. Rev. X 8, 011044](https://journals.aps.org/prx/abstract/10.1103/PhysRevX.8.011044), by carefully selection of basis function it is possible to obtain a representation that diagonalizes the Coulomb operator, leading to a much simpler Hamiltonian with $O(N^2)$ terms that can be written as\n",
    "$$\n",
    "H = \\sum_{pq} T_{pq} a^\\dagger_p a_q + \\sum_{pq} V_{pq} a^\\dagger_p a_p a^\\dagger_q a_q\n",
    "$$\n",
    "This form is derived in [Phys. Rev. X 8, 011044](https://journals.aps.org/prx/abstract/10.1103/PhysRevX.8.011044) by using basis functions that are related to a unitary rotation of plane waves. However, plane waves are not the only basis with this property; e.g., see [JCP 147, 244102](https://aip.scitation.org/doi/10.1063/1.5007066) for a basis that provides the diagonal form and high accuracy representation of single-molecules.\n",
    "\n",
    "Being a periodic basis, plane waves are particularly well suited to simulating periodic materials (e.g. solid state LiH instead of single molecule LiH in vacuum). One can use plane waves to also simulate single-molecules with a basis set discretization error that is asymptotically equivalent to Gaussian molecular orbitals; however, in practice for simulating single-molecules one often needs a constant factor more plane waves than Gaussians, and sometimes that constant factor is prohibitive for NISQ applications. In [Circuits 3](./circuits_3_arbitrary_basis_trotter.ipynb), we discuss how a combination of techniques from [Circuits 1](./circuits_1_basis_change.ipynb) and this tutorial enable simulation of arbitrary basis electronic structure in low depth. However, this tutorial will focus on representations of the Hamiltonian with a diagonal Coulomb operator. The techniques discussed in this notebook are applicable to any molecular system, whether periodic or not. However, for simplicity this notebook will focus on the simulation of the uniform electron gas, aka \"jellium\". Jellium has the same Hamiltonian as an arbitrary molecule but without an external potential (i.e. $T_{pp}$ is uniform for all $p$)."
   ]
  },
  {
   "cell_type": "markdown",
   "metadata": {
    "id": "2115c8f81d20"
   },
   "source": [
    "## Generation of a dual basis jellium Hamiltonian\n",
    "\n",
    "We begin by generating a small two-dimensional jellium model in the \"plane wave dual basis\" as in [Phys. Rev. X 8, 011044](https://journals.aps.org/prx/abstract/10.1103/PhysRevX.8.011044). Such two-dimensional jellium systems are often studied in the context of the fractional quantum Hall effect."
   ]
  },
  {
   "cell_type": "code",
   "execution_count": null,
   "metadata": {
    "id": "5d35877c03e1"
   },
   "outputs": [],
   "source": [
    "import openfermion\n",
    "\n",
    "# Set parameters of jellium model.\n",
    "wigner_seitz_radius = 5. # Radius per electron in Bohr radii.\n",
    "n_dimensions = 2 # Number of spatial dimensions.\n",
    "grid_length = 2 # Number of grid points in each dimension.\n",
    "spinless = True # Whether to include spin degree of freedom or not.\n",
    "n_electrons = 2 # Number of electrons.\n",
    "\n",
    "# Figure out length scale based on Wigner-Seitz radius and construct a basis grid.\n",
    "length_scale = openfermion.wigner_seitz_length_scale(\n",
    "    wigner_seitz_radius, n_electrons, n_dimensions)\n",
    "grid = openfermion.Grid(n_dimensions, grid_length, length_scale)\n",
    "\n",
    "# Initialize the model and print out.\n",
    "fermion_hamiltonian = openfermion.jellium_model(grid, spinless=spinless, plane_wave=False)\n",
    "print(fermion_hamiltonian)\n",
    "\n",
    "# Convert to DiagonalCoulombHamiltonian type.\n",
    "hamiltonian = openfermion.get_diagonal_coulomb_hamiltonian(fermion_hamiltonian)"
   ]
  },
  {
   "cell_type": "markdown",
   "metadata": {
    "id": "a0916c947bd6"
   },
   "source": [
    "In the last line above we converted the FermionOperator to a class called DiagonalCoulombHamiltonian which is a special data structure in OpenFermion for representing operators that take the form\n",
    "$$\n",
    "H = \\sum_{pq} T_{pq} a^\\dagger_p a_q + \\sum_{pq} V_{pq} a^\\dagger_p a_p a^\\dagger_q a_q.\n",
    "$$\n",
    "OpenFermion has implemented Hamiltonian simulation algorithms that are optimized specifically for Hamiltonians of this form. They take as input the OpenFermion data structure DiagonalCoulombHamiltonian, which represents such a Hamiltonian in terms of matrices storing $T_{pq}$ and $V_{pq}$."
   ]
  },
  {
   "cell_type": "markdown",
   "metadata": {
    "id": "686f8c13c14c"
   },
   "source": [
    "## Initializing the mean-field state of jellium\n",
    "\n",
    "Often one would like to begin a simulation of electronic structure in the mean-field state. To do this while keeping operators in the dual basis one needs to apply a rotation of single particle basis functions (see [Circuits 1](./circuits_1_basis_change.ipynb)). For arbitrary molecules this would necessitate first computing the canonical orbitals using a Hartree-Fock calculation, perhaps by using [OpenFermion-PySCF](https://github.com/quantumlib/OpenFermion-PySCF). However, since jellium has no external potential the mean-field state is an eigenstate of the one-body term $\\sum_{p, q} T_{pq} a^\\dagger_p a_q$. This term is a quadratic Hamiltonian, so its eigenstates can be prepared by applying a Bogoliubov transformation to a computational basis state. The Bogoliubov transformation changes the basis to one in which the quadratic Hamiltonian has the diagonal form $\\sum_{p} \\varepsilon_p b^\\dagger_p b_p$, where the $b^\\dagger_p$ are the creation operators for a new set of orbitals. We'll set the number of electrons to be half the total number of orbitals.\n",
    "\n",
    "We'll use the OpenFermion class QuadraticHamiltonian to obtain the Bogoliubov transformation matrix. Then, we'll initialize some qubits and create a circuit that applies the transformation to these qubits. Since our algorithms work with linear qubit connectivity, we'll use the `LineQubit` class. We won't bother compiling to Xmon gates for now to keep the circuits simple, but this can be done automatically using the appropriate Cirq methods. We will specify the initial state by passing in a list of the occupied orbitals (which in this case are just the first `n_electron` orbitals)."
   ]
  },
  {
   "cell_type": "code",
   "execution_count": null,
   "metadata": {
    "id": "777432cd94b9"
   },
   "outputs": [],
   "source": [
    "import cirq\n",
    "import openfermion\n",
    "\n",
    "# Obtain the Bogoliubov transformation matrix.\n",
    "quadratic_hamiltonian = openfermion.QuadraticHamiltonian(hamiltonian.one_body)\n",
    "_, transformation_matrix, _ = quadratic_hamiltonian.diagonalizing_bogoliubov_transform()\n",
    "\n",
    "# Create a circuit that prepares the mean-field state\n",
    "occupied_orbitals = range(n_electrons)\n",
    "n_qubits = openfermion.count_qubits(quadratic_hamiltonian)\n",
    "qubits = cirq.LineQubit.range(n_qubits)\n",
    "state_preparation_circuit = cirq.Circuit(\n",
    "    openfermion.bogoliubov_transform(\n",
    "        qubits, transformation_matrix, initial_state=occupied_orbitals))\n",
    "\n",
    "# Print circuit.\n",
    "cirq.DropNegligible().optimize_circuit(state_preparation_circuit)\n",
    "print(state_preparation_circuit)"
   ]
  },
  {
   "cell_type": "markdown",
   "metadata": {
    "id": "70bfa5b8054f"
   },
   "source": [
    "## Hamiltonian simulation via a Trotter-Suzuki product formula\n",
    "\n",
    "The goal of Hamiltonian time evolution simulation is to apply the unitary operator $\\exp(-i H t)$ for some time t. A simulation via a product formula proceeds by dividing the total evolution time $t$ into a finite number of steps $r$ and performing an approximate simulation of $\\exp(-i H t/r)$ $r$ times. Each simulation of $\\exp(-i H t/r)$ is called a Trotter step. The unitary $\\exp(-i H t/r)$ is approximated by interleaving simulations of the terms $H_j$ of a decomposition $H = \\sum_{j=1}^L H_j$. For example, the first-order symmetric, commonly known as the second-order, Trotter formula is\n",
    "$$\\exp(-i H t) \\approx \\prod_{j=1}^L \\exp(-i H_j t/2) \\prod_{j=L}^1 \\exp(-i H_j t/2).$$\n",
    "Higher-order product formulas are obtained from this one via a recursive construction. There is also a zeroth-order formula, which corresponds to\n",
    "$$\\exp(-i H t) \\approx \\prod_{j=1}^L \\exp(-i H_j t).$$\n",
    "In our case, the $H_j$ have the form $T_{pq} a^\\dagger_p a_q + T_{pq}^* a^\\dagger_q a_p$ or $V_{pq} a^\\dagger_p a_p a^\\dagger_q a_q$.\n",
    "\n",
    "To construct a circuit for performing time evolution via a product formula, we need to specify the total evolution time, the number of steps to use, and the order of the formula to use. For a fixed evolution time, increasing the number of steps and increasing the order of the formula both yield a more accurate simulation at the cost of increasing the gate count of the circuit. We could also specify an asymmetric Trotter step, or a controlled version, but we won't do that here. We will need to specify what algorithm will be used to compile the Trotter step. There are several options appropriate for DiagonalCoulombHamiltonians.\n",
    "\n",
    "A key result of [Phys. Rev. Lett. 120, 110501](https://journals.aps.org/prl/abstract/10.1103/PhysRevLett.120.110501) was to introduce a linear connectivity swap network which cycles through configurations in which all qubits are adjacent in at most $N$ parallel layers of swaps. As shown in that paper, by using fermionc swap gates instead of regular swap gates, one can use this swap network to simulate Trotter steps of an entire DiagonalCoulombHamiltonian. This effectively simulates $N / 2$ different pairs of terms $V_{pq} a^\\dagger_p a_p a^\\dagger_q a_q$ and $T_{pq} a^\\dagger_p a_q + T^*_{pq} a^\\dagger_q a_p$ in each layer of gates. By repeating the swap network for $N$ layers, all terms are simulated exactly once. This is referred to as the `LINEAR_SWAP_NETWORK` Trotter step in OpenFermion.\n",
    "\n",
    "Another approach to implementing the Trotter step involves simulating all $\\sum_{pq} V_{pq} a^\\dagger_p a_p a^\\dagger_q a_q$ terms (which commute and thus, this involves no Trotter error) by using the linear swap networks (with normal swap gates), and then performing a basis transformation which diagonalizes the one-body terms so that all of the $\\sum_{pq} T_{pq} a^\\dagger_p a_q$ terms can be simulated at once, and then performing another basis transformation to restore the original basis. This method involves more gates in each Trotter step but has less Trotter error, and thus might require fewer Trotter steps to achieve some target accuracy. This is referred to as the `SPLIT_OPERATOR` Trotter step in OpenFermion.\n",
    "\n",
    "Thus, there are currently two options for simulating DiagonalCoulombHamiltonians, `LINEAR_SWAP_NETWORK` and `SPLIT_OPERATOR`, and they correspond to different orderings of the terms $H_j$ in the product formula. Different orderings give different results because the $H_j$ do not all commute. Let's construct a circuit with the `LINEAR_SWAP_NETWORK` method using just one first order Trotter step. We'll insert operations into the circuit using the strategy `EARLIEST` so the printed output will be most compact. Still, the circuit will be longer than the width of this notebook, so we'll print it out transposed."
   ]
  },
  {
   "cell_type": "code",
   "execution_count": null,
   "metadata": {
    "id": "6caf04de2e0e"
   },
   "outputs": [],
   "source": [
    "from openfermion.circuits import trotter\n",
    "\n",
    "# Set algorithm parameters.\n",
    "time = 1.0\n",
    "n_steps = 1\n",
    "order = 1\n",
    "\n",
    "# Construct circuit\n",
    "swap_network_trotter_step = cirq.Circuit(\n",
    "    openfermion.simulate_trotter(\n",
    "        qubits, hamiltonian, time, n_steps, order,\n",
    "        algorithm=trotter.LINEAR_SWAP_NETWORK),\n",
    "    strategy=cirq.InsertStrategy.EARLIEST)\n",
    "\n",
    "# Print circuit.\n",
    "cirq.DropNegligible().optimize_circuit(swap_network_trotter_step)\n",
    "print(swap_network_trotter_step.to_text_diagram(transpose=True))"
   ]
  },
  {
   "cell_type": "markdown",
   "metadata": {
    "id": "73e15ccfc8bd"
   },
   "source": [
    "Now let's do the same, but using the `SPLIT_OPERATOR` method."
   ]
  },
  {
   "cell_type": "code",
   "execution_count": null,
   "metadata": {
    "id": "f2da625693eb"
   },
   "outputs": [],
   "source": [
    "split_operator_trotter_step = cirq.Circuit(\n",
    "    openfermion.simulate_trotter(\n",
    "        qubits, hamiltonian, time, n_steps, order,\n",
    "        algorithm=trotter.SPLIT_OPERATOR),\n",
    "    strategy=cirq.InsertStrategy.EARLIEST)\n",
    "cirq.DropNegligible().optimize_circuit(split_operator_trotter_step)\n",
    "print(split_operator_trotter_step.to_text_diagram(transpose=True))"
   ]
  },
  {
   "cell_type": "markdown",
   "metadata": {
    "id": "45e655c8377f"
   },
   "source": [
    "Let's run these circuits on the simulator that comes with Cirq and compute the energy of the resulting states."
   ]
  },
  {
   "cell_type": "code",
   "execution_count": null,
   "metadata": {
    "id": "c2f7a1a6b7d4"
   },
   "outputs": [],
   "source": [
    "# Initialize Cirq simulator.\n",
    "simulator = cirq.Simulator()\n",
    "\n",
    "# Convert the Hamiltonian to a sparse matrix.\n",
    "hamiltonian_sparse = openfermion.get_sparse_operator(hamiltonian)\n",
    "\n",
    "# Obtain initial state vector as integer.\n",
    "initial_state = sum(2 ** (n_qubits - 1 - i) for i in occupied_orbitals)\n",
    "\n",
    "# Construct and simulate circuit using the swap network method.\n",
    "circuit = state_preparation_circuit + swap_network_trotter_step\n",
    "result = simulator.simulate(circuit, initial_state=initial_state)\n",
    "final_state = result.final_state_vector\n",
    "\n",
    "print('Energy of state obtained with swap network method: {}'.format(\n",
    "    openfermion.expectation(hamiltonian_sparse, final_state).real))\n",
    "\n",
    "# Construct and simulate circuit using the split-operator method.\n",
    "circuit = state_preparation_circuit + split_operator_trotter_step\n",
    "result = simulator.simulate(circuit, initial_state=initial_state)\n",
    "final_state = result.final_state_vector\n",
    "\n",
    "print('Energy of state obtained with split-operator method: {}'.format(\n",
    "    openfermion.expectation(hamiltonian_sparse, final_state).real))"
   ]
  },
  {
   "cell_type": "markdown",
   "metadata": {
    "id": "56390c7d2c38"
   },
   "source": [
    "Increasing the number of Trotter steps will cause both methods to converge to the same operation, corresponding to an exact simulation. You can play around with the number of Trotter steps to confirm. Note that for NISQ applications one will often be interested in using the zeroth-order Trotter step, also known as the first-order asymmetric Trotter step. We can implement these Trotter steps by setting the order to zero, as we do below."
   ]
  },
  {
   "cell_type": "code",
   "execution_count": null,
   "metadata": {
    "id": "50cbe49f3d12"
   },
   "outputs": [],
   "source": [
    "# Set algorithm parameters.\n",
    "time = 1.0\n",
    "n_steps = 1\n",
    "order = 0\n",
    "\n",
    "# Construct circuit\n",
    "swap_network_trotter_step = cirq.Circuit(\n",
    "    openfermion.simulate_trotter(\n",
    "        qubits, hamiltonian, time, n_steps, order,\n",
    "        algorithm=trotter.LINEAR_SWAP_NETWORK),\n",
    "    strategy=cirq.InsertStrategy.EARLIEST)\n",
    "cirq.DropNegligible().optimize_circuit(swap_network_trotter_step)\n",
    "print(swap_network_trotter_step.to_text_diagram(transpose=True))"
   ]
  },
  {
   "cell_type": "markdown",
   "metadata": {
    "id": "72679dc0ddf4"
   },
   "source": [
    "Note the unusual pattern of fermionic swap networks towards the end. What is happening there is that in the zeroth order step of a `LINEAR_SWAP_NETWORK` style Trotter step, the qubit order is reversed upon output. To avoid this one needs to set an option called `omit_final_swaps`, e.g."
   ]
  },
  {
   "cell_type": "code",
   "execution_count": null,
   "metadata": {
    "id": "3e1a49e741ac"
   },
   "outputs": [],
   "source": [
    "swap_network_trotter_step = cirq.Circuit(\n",
    "    openfermion.simulate_trotter(\n",
    "        qubits, hamiltonian, time, n_steps, order,\n",
    "        algorithm=trotter.LINEAR_SWAP_NETWORK,\n",
    "        omit_final_swaps=True),\n",
    "    strategy=cirq.InsertStrategy.EARLIEST)\n",
    "cirq.DropNegligible().optimize_circuit(swap_network_trotter_step)\n",
    "print(swap_network_trotter_step.to_text_diagram(transpose=True))"
   ]
  },
  {
   "cell_type": "markdown",
   "metadata": {
    "id": "f9c787f2f317"
   },
   "source": [
    "One can also have fun compiling arbitrary high-order formulas. Here's the third-order symmetric formula:"
   ]
  },
  {
   "cell_type": "code",
   "execution_count": null,
   "metadata": {
    "id": "b253f1d0cb43"
   },
   "outputs": [],
   "source": [
    "order=3\n",
    "n_steps=1\n",
    "swap_network_trotter_step = cirq.Circuit(\n",
    "    openfermion.simulate_trotter(\n",
    "        qubits, hamiltonian, time, n_steps, order,\n",
    "        algorithm=trotter.LINEAR_SWAP_NETWORK),\n",
    "    strategy=cirq.InsertStrategy.EARLIEST)\n",
    "cirq.DropNegligible().optimize_circuit(swap_network_trotter_step)\n",
    "print(swap_network_trotter_step.to_text_diagram(transpose=True))"
   ]
  },
  {
   "cell_type": "markdown",
   "metadata": {
    "id": "432249530e89"
   },
   "source": [
    "## Application to phase estimation\n",
    "\n",
    "Phase estimation is a procedure that, given access to a controlled unitary and one of its eigenvectors, estimates the phase of the eigenvalue corresponding to that eigenvector. In the context of quantum simulation, this unitary is usually the time evolution operator $e^{-iHt}$. Thus if $H\\lvert n\\rangle = E_n \\lvert n \\rangle$, and we initialize the system in state $\\lvert n \\rangle$, phase estimation would estimate the value $E_n t / (2\\pi)$. To avoid aliasing of phases, $t$ should be chosen to be smaller than $2\\pi / \\lvert E_n \\rvert$. \n",
    "\n",
    "The simplest phase estimation circuit measures one bit of the phase in four steps:\n",
    "1. Perform a Hadamard transform on the control qubit.\n",
    "2. Apply the controlled unitary.\n",
    "3. Perform a Hadamard transform on the control qubit.\n",
    "4. Measure the control qubit.\n",
    "\n",
    "Below, we demonstrate the construction of this circuit where the controlled unitary is a controlled Trotter step of our jellium Hamiltonian. This circuit can be used as a building block of a larger phase estimation circuit."
   ]
  },
  {
   "cell_type": "code",
   "execution_count": null,
   "metadata": {
    "id": "a7d5c15a9a8d"
   },
   "outputs": [],
   "source": [
    "# Define a phase estimation circuit.\n",
    "def measure_bit_of_phase(system_qubits,\n",
    "                         control_qubit,\n",
    "                         controlled_unitary):\n",
    "    yield cirq.H(control_qubit)\n",
    "    yield controlled_unitary\n",
    "    yield cirq.H(control_qubit)\n",
    "    yield cirq.measure(control_qubit)\n",
    "\n",
    "# Get an upper bound on the Hamiltonian norm.\n",
    "import numpy\n",
    "bound = numpy.sum(numpy.abs(hamiltonian.one_body)) + numpy.sum(numpy.abs(hamiltonian.two_body))\n",
    "\n",
    "# Construct phase estimation circuit.\n",
    "time = 2 * numpy.pi / bound\n",
    "control = cirq.LineQubit(-1)\n",
    "\n",
    "controlled_unitary = openfermion.simulate_trotter(\n",
    "    qubits, hamiltonian, time,\n",
    "    n_steps=1,\n",
    "    order=1,\n",
    "    algorithm=trotter.LINEAR_SWAP_NETWORK,\n",
    "    control_qubit=control)\n",
    "\n",
    "circuit = cirq.Circuit(\n",
    "    measure_bit_of_phase(\n",
    "        qubits,\n",
    "        control,\n",
    "        controlled_unitary))\n",
    "\n",
    "# Print the circuit.\n",
    "cirq.DropNegligible().optimize_circuit(circuit)\n",
    "print(circuit.to_text_diagram(transpose=True))"
   ]
  }
 ],
 "metadata": {
  "colab": {
   "name": "circuits_2_diagonal_coulomb_trotter.ipynb",
   "toc_visible": true
  },
  "kernelspec": {
   "display_name": "Python 3",
   "language": "python",
   "name": "python3"
  },
  "language_info": {
   "codemirror_mode": {
    "name": "ipython",
    "version": 3
   },
   "file_extension": ".py",
   "mimetype": "text/x-python",
   "name": "python",
   "nbconvert_exporter": "python",
   "pygments_lexer": "ipython3",
   "version": "3.6.10"
  }
 },
 "nbformat": 4,
 "nbformat_minor": 1
}
