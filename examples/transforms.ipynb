{
 "cells": [
  {
   "cell_type": "markdown",
   "metadata": {},
   "source": [
    "# Transforms module demonstration\n",
    "\n",
    "## Second quantization and the canonical anticommutation relations\n",
    "\n",
    "$\\newcommand{acomm}[1]{\\{ #1 \\}}$\n",
    "$\\newcommand{bra}[1]{\\langle #1 \\rvert}$\n",
    "$\\newcommand{ket}[1]{\\lvert #1 \\rangle}$\n",
    "$\\newcommand{set}[1]{\\{ #1 \\}}$\n",
    "$\\newcommand{parens}[1]{( #1 )}$\n",
    "$\\newcommand{bracks}[1]{[ #1 ]}$\n",
    "Second quantization is a mathematical formalism used to describe systems\n",
    "of fermions. The idea is that there are a number of *modes* which can be\n",
    "occupied by a fermion or not. A system of $N$ fermionic modes is\n",
    "described by a set of fermionic *annihilation operators*\n",
    "$\\set{a_p}_{p=1}^N$ satisfying the *canonical anticommutation relations*\n",
    "$$\\begin{aligned}\n",
    "    \\acomm{a_p, a_q} &= 0, \\label{eq:car1} \\\\\n",
    "    \\acomm{a_p, a^\\dagger_q} &= \\delta_{pq}, \\label{eq:car2}\n",
    "  \\end{aligned}$$ where $\\acomm{A, B} := AB + BA$. The adjoint\n",
    "$a^\\dagger_p$ of an annihilation operator $a_p$ is called a *creation\n",
    "operator*, and we refer to creation and annihilation operators as\n",
    "fermionic *ladder operators*.\n",
    "\n",
    "We will always work in a finite-dimensional vector space, and in this\n",
    "setting, the anticommutation relations have the following consequences:\n",
    "\n",
    "-   The operators $\\set{a^\\dagger_p a_p}_{p=1}^N$ commute with each\n",
    "    other and have eigenvalues 0 and 1. These are called the *occupation\n",
    "    number operators*.\n",
    "\n",
    "-   There is a normalized vector $\\ket{\\text{vac}}$, called the *vacuum\n",
    "    state*, which is a mutual 0-eigenvector of all\n",
    "    the $a^\\dagger_p a_p$.\n",
    "\n",
    "-   If $\\ket{\\psi}$ is a 0-eigenvector of $a_p^\\dagger a_p$, then\n",
    "    $a_p^\\dagger\\ket{\\psi}$ is a 1-eigenvector of $a_p^\\dagger a_p$.\n",
    "    This explains why we say that $a_p^\\dagger$ creates a fermion in\n",
    "    mode $p$.\n",
    "\n",
    "-   If $\\ket{\\psi}$ is a 1-eigenvector of $a_p^\\dagger a_p$, then\n",
    "    $a_p\\ket{\\psi}$ is a 0-eigenvector of $a_p^\\dagger a_p$. This\n",
    "    explains why we say that $a_p$ annihilates a fermion in mode $p$.\n",
    "\n",
    "-   $a_p^2 = 0$ for all $p$. One cannot create or annihilate a fermion\n",
    "    in the same mode twice.\n",
    "\n",
    "-   The set of $2^N$ vectors $$\\begin{aligned}\n",
    "            \\parens{a^\\dagger_1}^{i_1} \\cdots \\parens{a^\\dagger_N}^{i_N} \\ket{\\text{vac}},\n",
    "            \\qquad i_1, \\ldots, i_N \\in \\set{0, 1}\n",
    "            \\label{eq:orth_basis}\n",
    "          \\end{aligned}$$ are orthonormal.\n",
    "\n",
    "-   The annihilation operators $\\set{a_p}$ act on this basis as follows:\n",
    "    $$\\begin{aligned}\n",
    "            \\bra{\\text{vac}} \\bracks{\\parens{a_N}^{j_N} \\cdots \\parens{a_1}^{j_1}}\n",
    "            a_p \n",
    "            \\bracks{\\parens{a^\\dagger_1}^{i_1} \\cdots \\parens{a^\\dagger_N}^{i_N}} \\ket{\\text{vac}}\n",
    "            =\n",
    "            \\delta_{j_p, 0} \\delta_{i_p, 1} \\prod_{q < p} \\delta_{j_q, i_q} (-1)^{i_q}.\n",
    "            \\label{eq:action}\n",
    "          \\end{aligned}$$\n",
    "\n",
    "See [here](http://michaelnielsen.org/blog/archive/notes/fermions_and_jordan_wigner.pdf) for a derivation and discussion of these\n",
    "consequences.\n",
    "\n",
    "Let's instantiate some FermionOperators and check that they satisfy the canonical anticommutation relations. Let's also check that the occupation number operators commute."
   ]
  },
  {
   "cell_type": "code",
   "execution_count": 2,
   "metadata": {},
   "outputs": [
    {
     "ename": "AssertionError",
     "evalue": "",
     "output_type": "error",
     "traceback": [
      "\u001b[0;31m---------------------------------------------------------------------------\u001b[0m",
      "\u001b[0;31mAssertionError\u001b[0m                            Traceback (most recent call last)",
      "\u001b[0;32m<ipython-input-2-992f257e029b>\u001b[0m in \u001b[0;36m<module>\u001b[0;34m()\u001b[0m\n\u001b[1;32m     11\u001b[0m \u001b[0midentity\u001b[0m \u001b[0;34m=\u001b[0m \u001b[0mFermionOperator\u001b[0m\u001b[0;34m(\u001b[0m\u001b[0;34m(\u001b[0m\u001b[0;34m)\u001b[0m\u001b[0;34m)\u001b[0m\u001b[0;34m\u001b[0m\u001b[0m\n\u001b[1;32m     12\u001b[0m \u001b[0;34m\u001b[0m\u001b[0m\n\u001b[0;32m---> 13\u001b[0;31m \u001b[0;32massert\u001b[0m \u001b[0mnormal_ordered\u001b[0m\u001b[0;34m(\u001b[0m\u001b[0manticommutator\u001b[0m\u001b[0;34m(\u001b[0m\u001b[0ma_2\u001b[0m\u001b[0;34m,\u001b[0m \u001b[0ma_2\u001b[0m\u001b[0;34m)\u001b[0m\u001b[0;34m)\u001b[0m \u001b[0;34m==\u001b[0m \u001b[0mzero\u001b[0m\u001b[0;34m\u001b[0m\u001b[0m\n\u001b[0m\u001b[1;32m     14\u001b[0m \u001b[0;32massert\u001b[0m \u001b[0mnormal_ordered\u001b[0m\u001b[0;34m(\u001b[0m\u001b[0manticommutator\u001b[0m\u001b[0;34m(\u001b[0m\u001b[0ma_2\u001b[0m\u001b[0;34m,\u001b[0m \u001b[0ma_2_dag\u001b[0m\u001b[0;34m)\u001b[0m\u001b[0;34m)\u001b[0m \u001b[0;34m==\u001b[0m \u001b[0midentity\u001b[0m\u001b[0;34m\u001b[0m\u001b[0m\n\u001b[1;32m     15\u001b[0m \u001b[0;32massert\u001b[0m \u001b[0mnormal_ordered\u001b[0m\u001b[0;34m(\u001b[0m\u001b[0manticommutator\u001b[0m\u001b[0;34m(\u001b[0m\u001b[0ma_2\u001b[0m\u001b[0;34m,\u001b[0m \u001b[0ma_5\u001b[0m\u001b[0;34m)\u001b[0m\u001b[0;34m)\u001b[0m \u001b[0;34m==\u001b[0m \u001b[0mzero\u001b[0m\u001b[0;34m\u001b[0m\u001b[0m\n",
      "\u001b[0;31mAssertionError\u001b[0m: "
     ]
    }
   ],
   "source": [
    "from openfermion import *\n",
    "\n",
    "a_2 = FermionOperator('2')\n",
    "a_2_dag = FermionOperator('2^')\n",
    "a_5 = FermionOperator('5')\n",
    "a_5_dag = FermionOperator('5^')\n",
    "\n",
    "num_2 = number_operator(5, 2)\n",
    "\n",
    "zero = FermionOperator()\n",
    "identity = FermionOperator(())\n",
    "\n",
    "assert normal_ordered(anticommutator(a_2, a_2)) == zero\n",
    "assert normal_ordered(anticommutator(a_2, a_2_dag)) == identity\n",
    "assert normal_ordered(anticommutator(a_2, a_5)) == zero\n",
    "assert normal_ordered(anticommutator(a_2, a_5_dag)) == zero"
   ]
  },
  {
   "cell_type": "markdown",
   "metadata": {},
   "source": [
    "## Mapping fermions to qubits with transforms\n",
    "\n",
    "To simulate a system of fermions on a quantum computer, we must choose a representation of the ladder operators on the Hilbert space of the qubits. In other words, we must designate a set of qubit operators which satisfy the canonical anticommutation relations. In OpenFermion a representation is specified by a transform function which maps fermionic operators (typically instances of FermionOperator) to qubit operators (instances of QubitOperator). If we work in a basis (like the computational basis), then each annihilation operator $a_p$ will then be associated with a matrix. There are many choices for the representation.\n",
    "\n",
    "### The Jordan-Wigner Transform (JWT)\n",
    "\n",
    "$$\\begin{aligned}\n",
    "    a_p &\\mapsto \\frac12 (X_p + \\mathrm{i}Y_p) Z_1 \\cdots Z_{p - 1} \\\\\n",
    "    &= \\parens{\\ket{0}\\bra{1}}_p Z_1 \\cdots Z_{p - 1}.\n",
    "\\end{aligned}$$\n",
    "\n",
    "Here, $X$, $Y$, and $Z$ are the Pauli matrices."
   ]
  },
  {
   "cell_type": "code",
   "execution_count": 5,
   "metadata": {},
   "outputs": [
    {
     "name": "stdout",
     "output_type": "stream",
     "text": [
      "pauli_x = \n",
      "[[0.+0.j 1.+0.j]\n",
      " [1.+0.j 0.+0.j]]\n",
      "\n",
      "pauli_y = \n",
      "[[0.+0.j 0.-1.j]\n",
      " [0.+1.j 0.+0.j]]\n",
      "\n",
      "pauli_z = \n",
      "[[ 1.+0.j  0.+0.j]\n",
      " [ 0.+0.j -1.+0.j]]\n",
      "\n",
      "jordan_wigner(a_2) = \n",
      "0.5 [Z0 Z1 X2] +\n",
      "0.5j [Z0 Z1 Y2]\n",
      "\n",
      "jordan_wigner(a_2_dag) = \n",
      "0.5 [Z0 Z1 X2] +\n",
      "-0.5j [Z0 Z1 Y2]\n",
      "\n",
      "jordan_wigner(a_5) = \n",
      "0.5 [Z0 Z1 Z2 Z3 Z4 X5] +\n",
      "0.5j [Z0 Z1 Z2 Z3 Z4 Y5]\n",
      "\n",
      "jordan_wigner(a_5_dag) = \n",
      "0.5 [Z0 Z1 Z2 Z3 Z4 X5] +\n",
      "-0.5j [Z0 Z1 Z2 Z3 Z4 Y5]\n"
     ]
    }
   ],
   "source": [
    "pauli_x = QubitOperator('X0')\n",
    "pauli_y = QubitOperator('Y0')\n",
    "pauli_z = QubitOperator('Z0')\n",
    "\n",
    "\n",
    "print(\"pauli_x = \\n{}\".format(get_sparse_operator(pauli_x).toarray()))\n",
    "print('')\n",
    "print(\"pauli_y = \\n{}\".format(get_sparse_operator(pauli_y).toarray()))\n",
    "print('')\n",
    "print(\"pauli_z = \\n{}\".format(get_sparse_operator(pauli_z).toarray()))\n",
    "\n",
    "print('')\n",
    "print(\"jordan_wigner(a_2) = \\n{}\".format(jordan_wigner(a_2)))\n",
    "print('')\n",
    "print(\"jordan_wigner(a_2_dag) = \\n{}\".format(jordan_wigner(a_2_dag)))\n",
    "print('')\n",
    "print(\"jordan_wigner(a_5) = \\n{}\".format(jordan_wigner(a_5)))\n",
    "print('')\n",
    "print(\"jordan_wigner(a_5_dag) = \\n{}\".format(jordan_wigner(a_5_dag)))"
   ]
  },
  {
   "cell_type": "markdown",
   "metadata": {},
   "source": [
    "### The Bravyi-Kitaev transform\n",
    "\n",
    "To define the Bravyi-Kitaev transform, it is easier to work with the operators"
   ]
  },
  {
   "cell_type": "markdown",
   "metadata": {},
   "source": [
    "### The parity transform\n",
    "\n",
    "$$\\begin{aligned}\n",
    "    a_p &\\mapsto \\frac12 (X_p Z_{p - 1} + \\mathrm{i}Y_p) X_{p + 1} \\cdots X_{N} \\\\\n",
    "    &= \\frac14 [(X_p + \\mathrm{i} Y_p) (I + Z_{p - 1}) -\n",
    "                (X_p - \\mathrm{i} Y_p) (I - Z_{p - 1})]\n",
    "               X_{p + 1} \\cdots X_{N} \\\\\n",
    "    &= [\\parens{\\ket{0}\\bra{1}}_p \\parens{\\ket{0}\\bra{0}}_{p - 1} -\n",
    "        \\parens{\\ket{0}\\bra{1}}_p \\parens{\\ket{1}\\bra{1}}_{p - 1}]\n",
    "       X_{p + 1} \\cdots X_{N} \\\\\n",
    "\\end{aligned}$$\n",
    "\n",
    "OpenFermion does not include a standalone function for performing the parity transform. However, there is functionality for defining new transforms specified by binary codes, and the binary code that specifies the parity transform is included in the library. See `examples/binary_code_transforms_demo.ipynb` for an explanation of this functionality."
   ]
  },
  {
   "cell_type": "code",
   "execution_count": 2,
   "metadata": {},
   "outputs": [
    {
     "name": "stdout",
     "output_type": "stream",
     "text": [
      "parity(a_2) = \n",
      "0.5 [Z1 X2 X3 X4 X5 X6 X7 X8 X9] +\n",
      "(-0-0.5j) [Y2 X3 X4 X5 X6 X7 X8 X9]\n",
      "\n",
      "parity(a_2_dag) = \n",
      "0.5 [Z1 X2 X3 X4 X5 X6 X7 X8 X9] +\n",
      "0.5j [Y2 X3 X4 X5 X6 X7 X8 X9]\n",
      "\n",
      "parity(a_5) = \n",
      "0.5 [Z4 X5 X6 X7 X8 X9] +\n",
      "(-0-0.5j) [Y5 X6 X7 X8 X9]\n",
      "\n",
      "parity(a_5_dag) = \n",
      "0.5 [Z4 X5 X6 X7 X8 X9] +\n",
      "0.5j [Y5 X6 X7 X8 X9]\n"
     ]
    }
   ],
   "source": [
    "n_modes = 10\n",
    "def parity(fermion_operator):\n",
    "    return binary_code_transform(fermion_operator, parity_code(n_modes))\n",
    "\n",
    "print(\"parity(a_2) = \\n{}\".format(parity(a_2)))\n",
    "print('')\n",
    "print(\"parity(a_2_dag) = \\n{}\".format(parity(a_2_dag)))\n",
    "print('')\n",
    "print(\"parity(a_5) = \\n{}\".format(parity(a_5)))\n",
    "print('')\n",
    "print(\"parity(a_5_dag) = \\n{}\".format(parity(a_5_dag)))"
   ]
  }
 ],
 "metadata": {
  "kernelspec": {
   "display_name": "Python 3",
   "language": "python",
   "name": "python3"
  },
  "language_info": {
   "codemirror_mode": {
    "name": "ipython",
    "version": 3
   },
   "file_extension": ".py",
   "mimetype": "text/x-python",
   "name": "python",
   "nbconvert_exporter": "python",
   "pygments_lexer": "ipython3",
   "version": "3.6.4"
  }
 },
 "nbformat": 4,
 "nbformat_minor": 2
}
