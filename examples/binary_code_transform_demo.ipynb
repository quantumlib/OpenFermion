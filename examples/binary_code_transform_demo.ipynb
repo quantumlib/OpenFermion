{
 "cells": [
  {
   "cell_type": "markdown",
   "metadata": {},
   "source": [
    "# Lowering qubit requirements using binary codes\n",
    "## Introduction\n",
    "\n",
    "Molecular Hamiltonians are known to have certain symmetries that are not taken into account by mappings like the Jordan-Wigner or Bravyi-Kitaev transform. The most notable of such symmetries is the conservation of the total number of particles in the system. Since those symmetries effectively reduce the degrees of freedom of the system, one is able to reduce the number of qubits required for simulation. This is done utilizing binary codes (arXiv:1712.07067). The idea is the following:\n",
    "We represent the symmetry-reduced Fermion basis by binary vectors of a set $\\mathcal{V} \\ni \\boldsymbol{\\nu}$, with $ \\boldsymbol{\\nu} = (\\nu_0, \\, \\nu_1, \\dots, \\, \\nu_{N-1} ) $, where every component $\\nu_i \\in \\lbrace 0, 1 \\rbrace $ and $N$ is the total number of Fermion modes.  These binary vectors $ \\boldsymbol{\\nu}$ are related to the actual basis states by: $$\n",
    "\\left[\\prod_{i=0}^{N-1} (a_i^{\\dagger})^{\\nu_i}  \\right] \\left|{\\text{vac}}\\right\\rangle \\, ,\n",
    "$$ where $ (a_i^\\dagger)^{0}=1$. The qubit basis, on the other hand, can be characterized by length-$n$ binary vectors $\\boldsymbol{\\omega}=(\\omega_0, \\, \\dots , \\, \\omega_{n-1})$, that represent an $n$-qubit basis state by:\n",
    "$$ \\left|{\\omega_0}\\right\\rangle  \\otimes \\left|\\omega_1\\right\\rangle \\otimes \\dots \\otimes  \\left|{\\omega_{n-1}}\\right\\rangle \\, .  $$ \n",
    "Since $\\mathcal{V}$ is a mere subset of the $N$-fold binary space, but the set of the vectors $\\boldsymbol{\\omega}$ spans the entire $n$-fold binary space we can assign every vector $\\boldsymbol{\\nu}$ to a vector $ \\boldsymbol{\\omega}$, such that $n<N$. This reduces the amount of qubits required by $(N-n)$ and is done by a binary code, a classical object that consists of an encoder function $\\boldsymbol{e}$ and a decoder function $\\boldsymbol{d}$. \n",
    "These functions relate the binary vectors $\\boldsymbol{e}(\\boldsymbol{\\nu})=\\boldsymbol{\\omega}$, $\\boldsymbol{d}(\\boldsymbol{\\omega})=\\boldsymbol{\\nu}$, such that $\\boldsymbol{d}(\\boldsymbol{e}(\\boldsymbol{\\nu}))=\\boldsymbol{\\nu}$.\n",
    "\n",
    "## Symbolic binary functions\n",
    "\n",
    "In OpenFermion, the use of this formalism is possible. We at the moment allow for non-linear decoders $\\boldsymbol{d}$ and linear encoder $\\boldsymbol{e}(\\boldsymbol{\\nu})=A \\boldsymbol{\\nu}$, where the matrix multiplication with the $(n\\times N)$-binary matrix $A$ is $(\\text{mod 2})$ in every component. The non-linear functionals for the components of the decoder are here modeled by the $\\text{SymbolicBinary}$ class in openfermion.ops.\n",
    "For initialization we can conveniently use strings ('w0 w1 + w1 +1' for the binary function $\\boldsymbol{\\omega} \\to \\omega_0 \\omega_1 + \\omega_1 + 1 \\;\\text{mod 2}$), the native data structure or symbolic addition and multiplication.\n"
   ]
  },
  {
   "cell_type": "code",
   "execution_count": 2,
   "metadata": {},
   "outputs": [
    {
     "name": "stdout",
     "output_type": "stream",
     "text": [
      "('These three expressions are equivalent: \\n', [W0 W1] + [W1] + [1])\n",
      "[W0 W1] + [W0] + [1]\n",
      "[W0 W1] + [W1] + [1]\n",
      "The native data type strucure can be seen here:\n",
      "[(0, 1), (1,), ('one',)]\n",
      "('We can always evaluate the expression for intstance for the vector (w0, w1, w2) = (1, 0, 0):', 1)\n"
     ]
    }
   ],
   "source": [
    "from openfermion.ops import SymbolicBinary\n",
    "\n",
    "binary_1 = SymbolicBinary('w0 w1 + w1 + 1')\n",
    "\n",
    "print(\"These three expressions are equivalent: \\n\", binary_1)\n",
    "print(SymbolicBinary('w0') * SymbolicBinary('w1 + 1') + SymbolicBinary('1'))\n",
    "print(SymbolicBinary([(1, 0), (1, ), ('one', )]))\n",
    "\n",
    "print('The native data type structure can be seen here:')\n",
    "print(binary_1.terms)\n",
    "print('We can always evaluate the expression for instance by the vector (w0, w1, w2) = (1, 0, 0):',\n",
    "      binary_1.evaluate('100'))\n"
   ]
  },
  {
   "cell_type": "markdown",
   "metadata": {},
   "source": [
    "## Binary codes\n",
    "The $\\text{BinaryCode}$ class bundles a decoder - a list of decoder components, which are instances of $\\text{SymbolicBinary}$ - and an encoder - the matrix $A$ as sparse numpy array -  as a binary code. The constructor however admits (dense) numpy arrays, nested lists or tuples as input for $A$, and arrays, lists or tuples of $\\text{SymbolicBinary}$ objects - or valid inputs for $\\text{SymbolicBinary}$ constructors - as input for $\\boldsymbol{d}$. An instance of the $\\text{BinaryCode}$ class knows about the number of qubits and the number of modes in the mapping.  "
   ]
  },
  {
   "cell_type": "code",
   "execution_count": 4,
   "metadata": {},
   "outputs": [
    {
     "ename": "ImportError",
     "evalue": "No module named openfermion.ops",
     "output_type": "error",
     "traceback": [
      "\u001b[0;31m---------------------------------------------------------------------------\u001b[0m",
      "\u001b[0;31mImportError\u001b[0m                               Traceback (most recent call last)",
      "\u001b[0;32m<ipython-input-4-07d7660f136a>\u001b[0m in \u001b[0;36m<module>\u001b[0;34m()\u001b[0m\n\u001b[0;32m----> 1\u001b[0;31m \u001b[0;32mfrom\u001b[0m \u001b[0mopenfermion\u001b[0m\u001b[0;34m.\u001b[0m\u001b[0mops\u001b[0m \u001b[0;32mimport\u001b[0m \u001b[0mBinaryCode\u001b[0m\u001b[0;34m\u001b[0m\u001b[0m\n\u001b[0m\u001b[1;32m      2\u001b[0m \u001b[0;34m\u001b[0m\u001b[0m\n\u001b[1;32m      3\u001b[0m \u001b[0mcode_1\u001b[0m \u001b[0;34m=\u001b[0m \u001b[0mBinaryCode\u001b[0m\u001b[0;34m(\u001b[0m\u001b[0;34m[\u001b[0m\u001b[0;34m[\u001b[0m\u001b[0;36m1\u001b[0m\u001b[0;34m,\u001b[0m \u001b[0;36m0\u001b[0m\u001b[0;34m,\u001b[0m \u001b[0;36m0\u001b[0m\u001b[0;34m]\u001b[0m\u001b[0;34m,\u001b[0m \u001b[0;34m[\u001b[0m\u001b[0;36m0\u001b[0m\u001b[0;34m,\u001b[0m \u001b[0;36m1\u001b[0m\u001b[0;34m,\u001b[0m \u001b[0;36m0\u001b[0m\u001b[0;34m]\u001b[0m\u001b[0;34m]\u001b[0m\u001b[0;34m,\u001b[0m \u001b[0;34m[\u001b[0m\u001b[0;34m'w0'\u001b[0m\u001b[0;34m,\u001b[0m \u001b[0;34m'w1'\u001b[0m\u001b[0;34m,\u001b[0m \u001b[0;34m'w0 + w1 + 1'\u001b[0m \u001b[0;34m]\u001b[0m\u001b[0;34m)\u001b[0m\u001b[0;34m\u001b[0m\u001b[0m\n\u001b[1;32m      4\u001b[0m \u001b[0;34m\u001b[0m\u001b[0m\n\u001b[1;32m      5\u001b[0m \u001b[0;32mprint\u001b[0m\u001b[0;34m(\u001b[0m\u001b[0mcode_1\u001b[0m\u001b[0;34m)\u001b[0m\u001b[0;34m\u001b[0m\u001b[0m\n",
      "\u001b[0;31mImportError\u001b[0m: No module named openfermion.ops"
     ]
    }
   ],
   "source": [
    "from openfermion.ops import BinaryCode\n",
    "\n",
    "code_1 = BinaryCode([[1, 0, 0], [0, 1, 0]], ['w0', 'w1', 'w0 + w1 + 1' ])\n",
    "\n",
    "print(code_1)\n",
    "print('number of qubits: ', code_1.n_qubits, '  number of Fermion modes: ', code_1.n_modes )\n",
    "print('encoding matrix: \\n', code_1.encoder.toarray())\n",
    "print('decoder: ', code_1.decoder)"
   ]
  },
  {
   "cell_type": "markdown",
   "metadata": {},
   "source": [
    "The code used in the example above, is in fact the (odd) Checksum code, and is implemented already - along with a few other examples from arxiv:1712.07067. In ?? we find, besides the function $\\text{checksum_code}$ the functions $\\text{weight_one_segment_code}$, $\\text{weight_two_segment_code}$, that output a subcode each, as well as $\\text{weight_one_binary_addressing_code}$.    \n",
    "\n",
    "There are two other ways to construct new codes from the ones given - both of them can be done conveniently with symbolic operations between two code objects $(\\boldsymbol{e}, \\boldsymbol{d})$ and $(\\boldsymbol{e^\\prime}, \\boldsymbol{d^\\prime})$ to yield a new code $(\\boldsymbol{e^{\\prime\\prime}}, \\boldsymbol{d^{\\prime\\prime}})$:  \n",
    "  \n",
    "**Appendage**  \n",
    "Two codes can be appended, such that input and output vectors of the two codes are appended to each other, which means for the global code:\n",
    "$$ e^{\\prime\\prime}(\\boldsymbol{\\nu} \\oplus \\boldsymbol{\\nu^{\\prime} })=\\boldsymbol{e}(\\boldsymbol{\\nu}) \\oplus \\boldsymbol{e^\\prime}(\\boldsymbol{\\nu^\\prime})\\, ,  \\qquad d^{\\prime\\prime}(\\boldsymbol{\\omega} \\oplus \\boldsymbol{\\omega^{\\prime} })=\\boldsymbol{d}(\\boldsymbol{\\omega}) \\oplus \\boldsymbol{d^\\prime}(\\boldsymbol{\\omega^\\prime}) \\, . $$\n",
    "This is implemented with symbolic addition of two $\\text{BinaryCode}$ objects (using + or += ), or, for appending several instances of the same code at once, multiplication with of the $\\text{BinaryCode}$  instance with an integer. Appending codes is useful when we want to obtain a segment code, or a segmented transform.\n",
    "  \n",
    "**Concatenation**  \n",
    "Two codes can (if the corresponding vectors match in size) be applied consecutively, in the sense that the output of the encoder of the first code is input to the encoder of the second code. This defines an entirely new encoder, and the corresponding decoder is defined to undo this operation. \n",
    "$$ \\boldsymbol{e^{\\prime\\prime}}(\\boldsymbol{\\nu^{\\prime\\prime}})=\\boldsymbol{e^\\prime}\\left(\\boldsymbol{e}(\\boldsymbol{\\nu^{\\prime\\prime}}) \\right) \\, , \\qquad \\boldsymbol{d^{\\prime\\prime}}(\\boldsymbol{\\omega^{\\prime\\prime}})=\\boldsymbol{d}\\left(\\boldsymbol{d^\\prime}(\\boldsymbol{\\omega^{\\prime\\prime}}) \\right)\n",
    "$$\n",
    "This is done by symbolic multiplication of two $\\text{BinaryCode}$ instances (with \\* or \\*=  ). One can concatenate the codes with each other such that additional qubits can be saved (e.g. checksum code \\* segment code ), or to modify the resulting gates after transform (e.g. checksum code \\* Bravyi-Kitaev code).  \n",
    "\n",
    "A broad palette of codes is provided to help construct codes symbolically. \n",
    "The $\\text{jordan_wigner_code}$ can be appended to every code to fill the number of modes, concatenationing the $\\text{bravyi_kitaev_code}$ or $\\text{parity_code}$ will modify the appearance of gates after the transform. The $\\text{interleaved_code}$ is useful to concatenate appended codes with if in Hamiltonians, Fermion operators are ordered by spin up-down-up-down-up- ... . This particular instance is used in the demonstration below.   \n",
    "\n",
    "Before we turn to describe the transformation, a word of warning has to be spoken here. Controlled gates that occur in the Hamiltonian by using non-linear codes are decomposed into Pauli strings, e.g. $\\text{CPHASE}(1,2)=\\frac{1}{2}(1+Z_1+Z_2-Z_1Z_2)$. In that way the amount of terms in a Hamiltonian might rise exponentially, if one chooses to use strongly non-linear codes. \n",
    "\n",
    "## Operator transform\n",
    "The actual transform of Fermion operators into qubit operators is done with the routine $\\text{binary_code_transform}$, that takes a Hamiltonian and a suitable code as inputs, outputting a qubit Hamiltonian.   \n",
    "Let us consider the case of a molecule with 4 modes where, due to the absence of magnetic interactions, the set of valid modes is only $$ \\mathcal{V}=\\lbrace (1,\\, 1,\\, 0,\\, 0 ),\\,(1,\\, 0,\\, 0,\\, 1 ),\\,(0,\\, 1,\\, 1,\\, 0 ),\\,(0,\\, 0,\\, 1,\\, 1 )\\rbrace \\, .$$\n",
    "One can either use an (even weight) checksum code to save a single qubit, or use and (odd weight) checksum code on spin-up and -down modes each to save two qubits. Since the ordering is spin-up-down-up-down, however, this requires to concatenate the with the interleaved code, which switches the role of the qubits from an half-up ordering to the present one. "
   ]
  },
  {
   "cell_type": "code",
   "execution_count": 4,
   "metadata": {},
   "outputs": [
    {
     "ename": "SyntaxError",
     "evalue": "invalid syntax (<ipython-input-4-07b67a0bcc81>, line 27)",
     "output_type": "error",
     "traceback": [
      "\u001b[0;36m  File \u001b[0;32m\"<ipython-input-4-07b67a0bcc81>\"\u001b[0;36m, line \u001b[0;32m27\u001b[0m\n\u001b[0;31m    *(2*checksum_code(2,1)))\u001b[0m\n\u001b[0m                            ^\u001b[0m\n\u001b[0;31mSyntaxError\u001b[0m\u001b[0;31m:\u001b[0m invalid syntax\n"
     ]
    }
   ],
   "source": [
    "from decoder_encoder_functions import *\n",
    "from openfermion.hamiltonians import MolecularData\n",
    "from openfermion.transforms import binary_code_transform\n",
    "from openfermion.transforms import get_fermion_operator\n",
    "from openfermion.utils import eigenspectrum\n",
    "\n",
    "def LiH_hamiltonian():\n",
    "    geometry = [('Li', (0., 0., 0.)), ('H', (0., 0., 1.45))]\n",
    "    active_space_start = 1\n",
    "    active_space_stop = 3\n",
    "    molecule = MolecularData(geometry, 'sto-3g', 1,\n",
    "                             description=\"1.45\")\n",
    "    molecule.load()\n",
    "    molecular_hamiltonian = molecule.get_molecular_hamiltonian(\n",
    "        occupied_indices=range(active_space_start),\n",
    "        active_indices=range(active_space_start, active_space_stop),\n",
    "        spin_indexing = 'up-then-down')\n",
    "    hamiltonian = get_fermion_operator(molecular_hamiltonian)\n",
    "    return hamiltonian\n",
    "\n",
    "\n",
    "hamiltonian = LiH_hamiltonian()\n",
    "print('Fermion Hamiltonian: \\n', hamiltonian)\n",
    "print('Jordan-Wigner transformed Hamiltonian :\\n', binary_code_transform(hamiltonian, jordan_wigner_code(4)))\n",
    "print('Even-weight checksum code: \\n', binary_code_transform(hamiltonian, checksum_code(4,0)))\n",
    "print('Double odd-weight checksum codes: \\n', binary_code_transform(hamiltonian, interleaved_code(4)\n",
    "                                                                    *(2*checksum_code(2,1)))\n"
   ]
  },
  {
   "cell_type": "code",
   "execution_count": null,
   "metadata": {},
   "outputs": [],
   "source": []
  }
 ],
 "metadata": {
  "anaconda-cloud": {},
  "kernelspec": {
   "display_name": "Python 3",
   "language": "python",
   "name": "python3"
  },
  "language_info": {
   "codemirror_mode": {
    "name": "ipython",
    "version": 2
   },
   "file_extension": ".py",
   "mimetype": "text/x-python",
   "name": "python",
   "nbconvert_exporter": "python",
   "pygments_lexer": "ipython2",
   "version": "2.7.14"
  }
 },
 "nbformat": 4,
 "nbformat_minor": 1
}
