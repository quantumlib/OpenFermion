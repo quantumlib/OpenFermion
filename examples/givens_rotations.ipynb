{
 "cells": [
  {
   "cell_type": "code",
   "execution_count": 1,
   "metadata": {
    "collapsed": true
   },
   "outputs": [],
   "source": [
    "# This code block is for automatic testing purposes, please ignore.\n",
    "try:\n",
    "    import openfermion\n",
    "except:\n",
    "    import os\n",
    "    os.chdir('../src/')"
   ]
  },
  {
   "cell_type": "markdown",
   "metadata": {},
   "source": [
    "# Demonstration of Givens rotation decomposition"
   ]
  },
  {
   "cell_type": "code",
   "execution_count": 2,
   "metadata": {
    "collapsed": true
   },
   "outputs": [],
   "source": [
    "import numpy\n",
    "from openfermion.utils import givens_decomposition\n",
    "from scipy.linalg import qr\n",
    "\n",
    "numpy.set_printoptions(precision=3, linewidth=150, suppress=True)"
   ]
  },
  {
   "cell_type": "markdown",
   "metadata": {},
   "source": [
    "A Slater determinant can be represented by an $m \\times n$ matrix with orthonormal rows. Let's obtain such a matrix $Q$ using Scipy's QR decomposition algorithm."
   ]
  },
  {
   "cell_type": "code",
   "execution_count": 3,
   "metadata": {},
   "outputs": [
    {
     "name": "stdout",
     "output_type": "stream",
     "text": [
      "[[-0.311+0.062j -0.403-0.276j  0.097-0.412j  0.237-0.295j  0.091-0.504j  0.236-0.145j]\n",
      " [-0.289-0.156j -0.113+0.033j  0.262+0.525j -0.207+0.253j -0.212-0.122j  0.365-0.484j]\n",
      " [-0.330-0.72j  -0.018-0.099j -0.236-0.182j -0.185+0.005j -0.015+0.025j -0.460-0.164j]]\n"
     ]
    }
   ],
   "source": [
    "m, n = (3, 6)\n",
    "\n",
    "# Obtain a random matrix of orthonormal rows\n",
    "x = numpy.random.randn(n, n)\n",
    "y = numpy.random.randn(n, n)\n",
    "A = x + 1j*y\n",
    "Q, R = qr(A)\n",
    "Q = Q[:m, :]\n",
    "print(Q)"
   ]
  },
  {
   "cell_type": "markdown",
   "metadata": {},
   "source": [
    "There exist unitary matrices $V$ and $U$ such that $VQU^\\dagger$ is an $m \\times n$ diagonal matrix. The matrix $VQ$ represents the same Slater determinant as $Q$ up to an overall phase (equal to $\\det(V)$), but it has zeros in the upper diagonal, which saves some work in the preparation of the Slater determinant. The unitary $U$ can be written in the form\n",
    "\n",
    "$$U = G_{N_G} \\cdots G_2 G_1$$\n",
    "\n",
    "where the $G_k$ are complex Givens rotations. We can obtain $V$, the $G_k$, and the diagonal entries of $VQU^\\dagger$ using the `givens_decomposition` function."
   ]
  },
  {
   "cell_type": "code",
   "execution_count": 4,
   "metadata": {},
   "outputs": [
    {
     "name": "stdout",
     "output_type": "stream",
     "text": [
      "[[ 0.240-0.126j -0.439-0.47j  -0.689+0.195j]\n",
      " [ 0.900+0.065j -0.208+0.072j  0.357-0.101j]\n",
      " [ 0.335+0.j     0.683+0.268j -0.371+0.461j]]\n",
      "\n",
      "[ 0.457+0.889j -0.916-0.4j    0.970-0.242j]\n"
     ]
    }
   ],
   "source": [
    "# Get Givens decomposition of U\n",
    "V, givens_rotations, diagonal = givens_decomposition(Q)\n",
    "print(V)\n",
    "print()\n",
    "print(diagonal)"
   ]
  },
  {
   "cell_type": "markdown",
   "metadata": {},
   "source": [
    "We didn't print the Givens rotations in the above block because it wouldn't look pretty. The Givens rotations are returned as a list of tuples of tuples. We will now iterate through the tuples of the list, and print the innermost tuple within each tuple as a string."
   ]
  },
  {
   "cell_type": "code",
   "execution_count": 5,
   "metadata": {},
   "outputs": [
    {
     "name": "stdout",
     "output_type": "stream",
     "text": [
      "('2, 3, 0.671, -2.644',)\n",
      "('1, 2, 1.421, 0.281', '3, 4, 1.401, -1.617')\n",
      "('0, 1, 0.683, -2.284', '2, 3, 0.704, 2.724', '4, 5, 1.204, 2.049')\n",
      "('1, 2, 0.800, -2.721', '3, 4, 1.412, -2.494')\n",
      "('2, 3, 1.112, -3.003',)\n"
     ]
    }
   ],
   "source": [
    "for parallel_set in givens_rotations:\n",
    "    print(tuple([\"{}, {}, {:.3f}, {:.3f}\".format(i, j, theta, phi)\n",
    "                 for i, j, theta, phi in parallel_set]))"
   ]
  },
  {
   "cell_type": "markdown",
   "metadata": {},
   "source": [
    "There are 5 tuples printed, and within each tuple, there are strings of the form 'i, j, theta, phi'. Each such string represents an innermost tuple, and it is a description of a complex Givens rotation of the coordinates $i$ and $j$ by angles $\\theta$ and $\\varphi$. The $2 \\times 2$ matrix corresponding to this rotation is\n",
    "\n",
    "$$\n",
    "\\begin{pmatrix}\n",
    "\\cos \\theta & -e^{i \\varphi} \\sin \\theta \\\\\n",
    "\\sin \\theta & e^{i \\varphi} \\cos \\theta\n",
    "\\end{pmatrix}.\n",
    "$$\n",
    "\n",
    "The fact that there are 5 tuples means that the circuit depth to prepare the Slater determinant corresponding to $Q$ (up to a phase) has depth 5. All of the rotations within the tuple can be performed in parallel; this is possible because the indices to be rotated are disjoint. For instance, in the third step, we can perform three rotations simultaneously, on coordinates $(0, 1)$, $(2, 3)$, and $(4, 5)$."
   ]
  },
  {
   "cell_type": "markdown",
   "metadata": {},
   "source": [
    "Let's check that $VQ$ has zeros in the upper right corner."
   ]
  },
  {
   "cell_type": "code",
   "execution_count": 6,
   "metadata": {},
   "outputs": [
    {
     "name": "stdout",
     "output_type": "stream",
     "text": [
      "[[ 0.355+0.69j  -0.035+0.087j  0.301-0.385j  0.356-0.154j  0.000+0.j     0.000+0.j   ]\n",
      " [-0.403-0.176j -0.340-0.323j -0.081-0.496j  0.192-0.297j  0.165-0.427j  0.000-0.j   ]\n",
      " [ 0.194-0.048j -0.169-0.072j  0.242+0.25j  -0.064-0.069j -0.088-0.325j  0.704-0.432j]]\n"
     ]
    }
   ],
   "source": [
    "# Check that VQ has zeros in upper right corner\n",
    "W = V.dot(Q)\n",
    "print(W)"
   ]
  },
  {
   "cell_type": "markdown",
   "metadata": {},
   "source": [
    "Now let's check the Givens decomposition. For each set of Givens rotations that can be performed in parallel, we construct the matrices corresponding to the Givens rotations and multiply them together. Then, we multiply $W = VQ$ repeatedly on the right by these matrices and check that the correct elements are zeroed out."
   ]
  },
  {
   "cell_type": "code",
   "execution_count": 7,
   "metadata": {
    "scrolled": true
   },
   "outputs": [
    {
     "name": "stdout",
     "output_type": "stream",
     "text": [
      "Number of rotations to perform in parallel: 1\n",
      "[[ 0.355+0.69j  -0.035+0.087j  0.384-0.491j  0.000-0.j     0.000+0.j     0.000+0.j   ]\n",
      " [-0.403-0.176j -0.340-0.323j -0.047-0.607j -0.072-0.032j  0.165-0.427j  0.000-0.j   ]\n",
      " [ 0.194-0.048j -0.169-0.072j  0.134+0.177j  0.220+0.179j -0.088-0.325j  0.704-0.432j]]\n",
      "\n",
      "Number of rotations to perform in parallel: 2\n",
      "[[ 0.355+0.69j  -0.236+0.585j  0.000-0.j     0.000-0.j     0.000-0.j     0.000+0.j   ]\n",
      " [-0.403-0.176j  0.160+0.516j -0.368-0.405j -0.425-0.187j  0.000+0.j     0.000-0.j   ]\n",
      " [ 0.194-0.048j -0.201-0.142j -0.140-0.051j -0.287+0.102j  0.272+0.164j  0.704-0.432j]]\n",
      "\n",
      "Number of rotations to perform in parallel: 3\n",
      "[[ 0.457+0.889j -0.000+0.j     0.000-0.j     0.000-0.j     0.000+0.j     0.000-0.j   ]\n",
      " [-0.000-0.j    -0.638-0.279j -0.483-0.531j -0.000-0.j     0.000-0.j     0.000+0.j   ]\n",
      " [ 0.000+0.j     0.308-0.077j -0.303-0.054j  0.141-0.015j  0.759+0.457j  0.000+0.j   ]]\n",
      "\n",
      "Number of rotations to perform in parallel: 2\n",
      "[[ 0.457+0.889j -0.000-0.j    -0.000+0.j     0.000+0.j    -0.000-0.j     0.000-0.j   ]\n",
      " [-0.000-0.j    -0.916-0.4j    0.000+0.j     0.000-0.j    -0.000-0.j     0.000+0.j   ]\n",
      " [ 0.000+0.j    -0.000-0.j     0.429-0.107j  0.892-0.095j  0.000-0.j     0.000+0.j   ]]\n",
      "\n",
      "Number of rotations to perform in parallel: 1\n",
      "[[ 0.457+0.889j -0.000-0.j    -0.000+0.j    -0.000+0.j    -0.000-0.j     0.000-0.j   ]\n",
      " [-0.000-0.j    -0.916-0.4j    0.000-0.j     0.000+0.j    -0.000-0.j     0.000+0.j   ]\n",
      " [ 0.000+0.j    -0.000-0.j     0.970-0.242j -0.000-0.j     0.000-0.j     0.000+0.j   ]]\n",
      "\n"
     ]
    }
   ],
   "source": [
    "# Check the Givens decomposition\n",
    "def expanded_givens(G, i, j, n):\n",
    "    expanded_G = numpy.eye(n, dtype=complex)\n",
    "    expanded_G[([i], [j]), (i, j)] = G\n",
    "    return expanded_G\n",
    "\n",
    "U = numpy.eye(n, dtype=complex)\n",
    "for parallel_set in givens_rotations:\n",
    "    print(\"Number of rotations to perform in parallel: {}\".format(len(parallel_set)))\n",
    "    combined_givens = numpy.eye(n, dtype=complex)\n",
    "    for i, j, theta, phi in parallel_set:\n",
    "        c = numpy.cos(theta)\n",
    "        s = numpy.sin(theta)\n",
    "        phase = numpy.exp(1.j * phi)\n",
    "        G = numpy.array([[c, -phase * s],\n",
    "                     [s, phase * c]], dtype=complex)\n",
    "        expanded_G = expanded_givens(G, i, j, n)\n",
    "        combined_givens = combined_givens.dot(expanded_G)\n",
    "    W = W.dot(combined_givens.T.conj())\n",
    "    U = combined_givens.dot(U)\n",
    "    print(W)\n",
    "    print()"
   ]
  },
  {
   "cell_type": "markdown",
   "metadata": {},
   "source": [
    "Finally, let's check that the final matrix, $VQU^\\dagger$, is indeed diagonal, and that its entries match the ones returned by the function."
   ]
  },
  {
   "cell_type": "code",
   "execution_count": 8,
   "metadata": {
    "scrolled": true
   },
   "outputs": [
    {
     "name": "stdout",
     "output_type": "stream",
     "text": [
      "V * Q * U^\\dagger matches the returned diagonal:\n",
      "True\n"
     ]
    }
   ],
   "source": [
    "# Check the diagonal entries\n",
    "D = numpy.zeros((m, n), dtype=complex)\n",
    "D[numpy.diag_indices(m)] = diagonal\n",
    "print(\"V * Q * U^\\dagger matches the returned diagonal:\")\n",
    "print(numpy.all(numpy.isclose(D, V.dot(Q.dot(U.T.conj())))))"
   ]
  }
 ],
 "metadata": {
  "kernelspec": {
   "display_name": "Python 3",
   "language": "python",
   "name": "python3"
  },
  "language_info": {
   "codemirror_mode": {
    "name": "ipython",
    "version": 3
   },
   "file_extension": ".py",
   "mimetype": "text/x-python",
   "name": "python",
   "nbconvert_exporter": "python",
   "pygments_lexer": "ipython3",
   "version": "3.6.2"
  }
 },
 "nbformat": 4,
 "nbformat_minor": 2
}
