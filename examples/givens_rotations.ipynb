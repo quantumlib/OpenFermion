{
 "cells": [
  {
   "cell_type": "code",
   "execution_count": 1,
   "metadata": {
    "collapsed": true
   },
   "outputs": [],
   "source": [
    "# This code block is for automatic testing purposes, please ignore.\n",
    "try:\n",
    "    import openfermion\n",
    "except:\n",
    "    import os\n",
    "    os.chdir('../src/')"
   ]
  },
  {
   "cell_type": "markdown",
   "metadata": {},
   "source": [
    "# Demonstration of Givens rotation decomposition"
   ]
  },
  {
   "cell_type": "code",
   "execution_count": 2,
   "metadata": {
    "collapsed": true
   },
   "outputs": [],
   "source": [
    "import numpy\n",
    "from openfermion.utils import givens_decomposition\n",
    "from scipy.linalg import qr\n",
    "\n",
    "numpy.set_printoptions(precision=3, linewidth=150, suppress=True)"
   ]
  },
  {
   "cell_type": "markdown",
   "metadata": {},
   "source": [
    "A Slater determinant can be represented by an $m \\times n$ matrix with orthonormal rows. Let's obtain such a matrix $Q$ using Scipy's QR decomposition algorithm."
   ]
  },
  {
   "cell_type": "code",
   "execution_count": 3,
   "metadata": {},
   "outputs": [
    {
     "name": "stdout",
     "output_type": "stream",
     "text": [
      "[[-0.134+0.446j  0.018+0.271j  0.703+0.294j  0.025-0.198j -0.074+0.061j  0.267-0.091j]\n",
      " [ 0.336+0.267j -0.441-0.245j -0.077-0.02j   0.343+0.422j  0.083+0.215j  0.434-0.131j]\n",
      " [-0.395-0.103j  0.001-0.253j -0.215-0.216j -0.058-0.47j  -0.138+0.258j  0.462-0.392j]]\n"
     ]
    }
   ],
   "source": [
    "m, n = (3, 6)\n",
    "\n",
    "# Obtain a random matrix of orthonormal rows\n",
    "x = numpy.random.randn(n, n)\n",
    "y = numpy.random.randn(n, n)\n",
    "A = x + 1j*y\n",
    "Q, R = qr(A)\n",
    "Q = Q[:m, :]\n",
    "print(Q)"
   ]
  },
  {
   "cell_type": "markdown",
   "metadata": {},
   "source": [
    "There exist unitary matrices $V$ and $U$ such that $VQU^\\dagger$ is an $m \\times n$ diagonal matrix. The matrix $VQ$ represents the same Slater determinant as $Q$ up to an overall phase (equal to $\\det(V)$), but it has zeros in the upper diagonal, which saves some work in the preparation of the Slater determinant. The unitary $U$ can be written in the form\n",
    "\n",
    "$$U = G_{N_G} \\cdots G_2 G_1$$\n",
    "\n",
    "where the $G_k$ are complex Givens rotations. We can obtain $V$, the $G_k$, and the diagonal entries of $VQU^\\dagger$ using the `givens_decomposition` function."
   ]
  },
  {
   "cell_type": "code",
   "execution_count": 4,
   "metadata": {},
   "outputs": [
    {
     "name": "stdout",
     "output_type": "stream",
     "text": [
      "[[ 0.912+0.068j -0.077+0.112j -0.297-0.239j]\n",
      " [ 0.181-0.096j -0.806-0.128j  0.420+0.339j]\n",
      " [ 0.349+0.j     0.561-0.019j  0.698+0.276j]]\n",
      "()\n",
      "[-0.209+0.978j -0.714-0.7j   -0.645+0.764j]\n"
     ]
    }
   ],
   "source": [
    "# Get Givens decomposition of U\n",
    "givens_rotations, V, diagonal = givens_decomposition(Q)\n",
    "print(V)\n",
    "print()\n",
    "print(diagonal)"
   ]
  },
  {
   "cell_type": "markdown",
   "metadata": {},
   "source": [
    "We didn't print the Givens rotations in the above block because it wouldn't look pretty. The Givens rotations are returned as a list of tuples of tuples. We will now iterate through the tuples of the list, and print the innermost tuple within each tuple as a string."
   ]
  },
  {
   "cell_type": "code",
   "execution_count": 5,
   "metadata": {},
   "outputs": [
    {
     "name": "stdout",
     "output_type": "stream",
     "text": [
      "('2, 3, 0.172, -0.438',)\n",
      "('1, 2, 1.212, 2.149', '3, 4, 0.313, 1.750')\n",
      "('0, 1, 0.986, 2.937', '2, 3, 1.062, 1.518', '4, 5, 1.106, 2.647')\n",
      "('1, 2, 0.945, -0.406', '3, 4, 1.190, -0.769')\n",
      "('2, 3, 1.339, -1.335',)\n"
     ]
    }
   ],
   "source": [
    "for parallel_set in givens_rotations:\n",
    "    print(tuple([\"{}, {}, {:.3f}, {:.3f}\".format(i, j, theta, phi)\n",
    "                 for i, j, theta, phi in parallel_set]))"
   ]
  },
  {
   "cell_type": "markdown",
   "metadata": {},
   "source": [
    "There are 5 tuples printed, and within each tuple, there are strings of the form 'i, j, theta, phi'. Each such string represents an innermost tuple, and it is a description of a complex Givens rotation of the coordinates $i$ and $j$ by angles $\\theta$ and $\\varphi$. The $2 \\times 2$ matrix corresponding to this rotation is\n",
    "\n",
    "$$\n",
    "\\begin{pmatrix}\n",
    "\\cos \\theta & -e^{i \\varphi} \\sin \\theta \\\\\n",
    "\\sin \\theta & e^{i \\varphi} \\cos \\theta\n",
    "\\end{pmatrix}.\n",
    "$$\n",
    "\n",
    "The fact that there are 5 tuples means that the circuit depth to prepare the Slater determinant corresponding to $Q$ (up to a phase) has depth 5. All of the rotations within the tuple can be performed in parallel; this is possible because the indices to be rotated are disjoint. For instance, in the third step, we can perform three rotations simultaneously, on coordinates $(0, 1)$, $(2, 3)$, and $(4, 5)$."
   ]
  },
  {
   "cell_type": "markdown",
   "metadata": {},
   "source": [
    "Let's check that $VQ$ has zeros in the upper right corner."
   ]
  },
  {
   "cell_type": "code",
   "execution_count": 6,
   "metadata": {},
   "outputs": [
    {
     "name": "stdout",
     "output_type": "stream",
     "text": [
      "[[-0.115+0.54j  -0.002+0.292j  0.642+0.425j -0.132-0.02j  -0.000+0.j     0.000-0.j   ]\n",
      " [-0.349-0.342j  0.440+0.195j  0.198-0.152j -0.102-0.64j  -0.192-0.104j  0.000+0.j   ]\n",
      " [-0.100+0.118j -0.176-0.211j  0.111-0.117j  0.298-0.182j -0.142+0.282j  0.765-0.26j ]]\n"
     ]
    }
   ],
   "source": [
    "# Check that VQ has zeros in upper right corner\n",
    "W = V.dot(Q)\n",
    "print(W)"
   ]
  },
  {
   "cell_type": "markdown",
   "metadata": {},
   "source": [
    "Now let's check the Givens decomposition. For each set of Givens rotations that can be performed in parallel, we construct the matrices corresponding to the Givens rotations and multiply them together. Then, we multiply $W = VQ$ repeatedly on the right by these matrices and check that the correct elements are zeroed out."
   ]
  },
  {
   "cell_type": "code",
   "execution_count": 7,
   "metadata": {
    "scrolled": true
   },
   "outputs": [
    {
     "name": "stdout",
     "output_type": "stream",
     "text": [
      "Number of rotations to perform in parallel: 1\n",
      "[[-0.115+0.54j  -0.002+0.292j  0.651+0.431j  0.000+0.j    -0.000+0.j     0.000-0.j   ]\n",
      " [-0.349-0.342j  0.440+0.195j  0.164-0.043j  0.210-0.64j  -0.192-0.104j  0.000+0.j   ]\n",
      " [-0.100+0.118j -0.176-0.211j  0.050-0.108j  0.361-0.058j -0.142+0.282j  0.765-0.26j ]]\n",
      "()\n",
      "Number of rotations to perform in parallel: 2\n",
      "[[-0.115+0.54j  -0.005+0.834j -0.000+0.j     0.000-0.j     0.000+0.j     0.000-0.j   ]\n",
      " [-0.349-0.342j  0.272+0.175j  0.368+0.143j  0.221-0.672j  0.000+0.j     0.000+0.j   ]\n",
      " [-0.100+0.118j  0.049-0.09j  -0.206-0.192j  0.250-0.083j  0.400+0.068j  0.765-0.26j ]]\n",
      "()\n",
      "Number of rotations to perform in parallel: 3\n",
      "[[-0.209+0.978j -0.000+0.j    -0.000+0.j    -0.000-0.j     0.000+0.j     0.000-0.j   ]\n",
      " [ 0.000-0.j    -0.418-0.41j   0.756+0.293j  0.000-0.j     0.000+0.j     0.000+0.j   ]\n",
      " [ 0.000-0.j    -0.120+0.142j -0.039+0.129j -0.214-0.291j  0.891+0.151j -0.000+0.j   ]]\n",
      "()\n",
      "Number of rotations to perform in parallel: 2\n",
      "[[-0.209+0.978j  0.000-0.j    -0.000+0.j    -0.000-0.j    -0.000-0.j     0.000-0.j   ]\n",
      " [ 0.000-0.j    -0.714-0.7j   -0.000+0.j     0.000-0.j     0.000-0.j     0.000+0.j   ]\n",
      " [ 0.000-0.j    -0.000-0.j    -0.148+0.175j -0.576-0.784j -0.000-0.j    -0.000+0.j   ]]\n",
      "()\n",
      "Number of rotations to perform in parallel: 1\n",
      "[[-0.209+0.978j  0.000-0.j    -0.000+0.j    -0.000+0.j    -0.000-0.j     0.000-0.j   ]\n",
      " [ 0.000-0.j    -0.714-0.7j   -0.000+0.j    -0.000+0.j     0.000-0.j     0.000+0.j   ]\n",
      " [ 0.000-0.j    -0.000-0.j    -0.645+0.764j  0.000+0.j    -0.000-0.j    -0.000+0.j   ]]\n",
      "()\n"
     ]
    }
   ],
   "source": [
    "# Check the Givens decomposition\n",
    "def expanded_givens(G, i, j, n):\n",
    "    expanded_G = numpy.eye(n, dtype=complex)\n",
    "    expanded_G[([i], [j]), (i, j)] = G\n",
    "    return expanded_G\n",
    "\n",
    "U = numpy.eye(n, dtype=complex)\n",
    "for parallel_set in givens_rotations:\n",
    "    print(\"Number of rotations to perform in parallel: {}\".format(len(parallel_set)))\n",
    "    combined_givens = numpy.eye(n, dtype=complex)\n",
    "    for i, j, theta, phi in parallel_set:\n",
    "        c = numpy.cos(theta)\n",
    "        s = numpy.sin(theta)\n",
    "        phase = numpy.exp(1.j * phi)\n",
    "        G = numpy.array([[c, -phase * s],\n",
    "                     [s, phase * c]], dtype=complex)\n",
    "        expanded_G = expanded_givens(G, i, j, n)\n",
    "        combined_givens = combined_givens.dot(expanded_G)\n",
    "    W = W.dot(combined_givens.T.conj())\n",
    "    U = combined_givens.dot(U)\n",
    "    print(W)\n",
    "    print()"
   ]
  },
  {
   "cell_type": "markdown",
   "metadata": {},
   "source": [
    "Finally, let's check that the final matrix, $VQU^\\dagger$, is indeed diagonal, and that its entries match the ones returned by the function."
   ]
  },
  {
   "cell_type": "code",
   "execution_count": 8,
   "metadata": {
    "scrolled": true
   },
   "outputs": [
    {
     "name": "stdout",
     "output_type": "stream",
     "text": [
      "V * Q * U^\\dagger matches the returned diagonal:\n",
      "True\n"
     ]
    }
   ],
   "source": [
    "# Check the diagonal entries\n",
    "D = numpy.zeros((m, n), dtype=complex)\n",
    "D[numpy.diag_indices(m)] = diagonal\n",
    "print(\"V * Q * U^\\dagger matches the returned diagonal:\")\n",
    "print(numpy.all(numpy.isclose(D, V.dot(Q.dot(U.T.conj())))))"
   ]
  }
 ],
 "metadata": {
  "kernelspec": {
   "display_name": "Python 2",
   "language": "python",
   "name": "python2"
  },
  "language_info": {
   "codemirror_mode": {
    "name": "ipython",
    "version": 2
   },
   "file_extension": ".py",
   "mimetype": "text/x-python",
   "name": "python",
   "nbconvert_exporter": "python",
   "pygments_lexer": "ipython2",
   "version": "2.7.13"
  }
 },
 "nbformat": 4,
 "nbformat_minor": 2
}
