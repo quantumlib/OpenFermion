{
 "cells": [
  {
   "cell_type": "markdown",
   "metadata": {},
   "source": [
    "# Demonstration of Givens rotation decomposition"
   ]
  },
  {
   "cell_type": "code",
   "execution_count": 1,
   "metadata": {
    "collapsed": true
   },
   "outputs": [],
   "source": [
    "import numpy\n",
    "from openfermion.utils import givens_decomposition\n",
    "from scipy.linalg import qr\n",
    "\n",
    "numpy.set_printoptions(precision=3, linewidth=150, suppress=True)"
   ]
  },
  {
   "cell_type": "markdown",
   "metadata": {},
   "source": [
    "A Slater determinant can be represented by an $m \\times n$ matrix with orthonormal rows. Let's obtain such a matrix $Q$ using Scipy's QR decomposition algorithm."
   ]
  },
  {
   "cell_type": "code",
   "execution_count": 2,
   "metadata": {},
   "outputs": [
    {
     "name": "stdout",
     "output_type": "stream",
     "text": [
      "[[-0.006+0.277j -0.197-0.123j  0.375+0.307j  0.267-0.403j -0.035-0.016j  0.515+0.366j]\n",
      " [ 0.003-0.429j -0.742+0.077j  0.055+0.372j -0.123+0.276j -0.020-0.144j  0.028-0.07j ]\n",
      " [-0.278+0.289j -0.299+0.054j -0.322-0.507j -0.033+0.158j  0.142-0.476j  0.259+0.215j]]\n"
     ]
    }
   ],
   "source": [
    "m, n = (3, 6)\n",
    "\n",
    "# Obtain a random matrix of orthonormal rows\n",
    "x = numpy.random.randn(n, n)\n",
    "y = numpy.random.randn(n, n)\n",
    "A = x + 1j*y\n",
    "Q, R = qr(A)\n",
    "Q = Q[:m, :]\n",
    "print(Q)"
   ]
  },
  {
   "cell_type": "markdown",
   "metadata": {},
   "source": [
    "There exist unitary matrices $V$ and $U$ such that $VQU^\\dagger$ is an $m \\times n$ diagonal matrix. The matrix $VQ$ represents the same Slater determinant as $Q$ up to an overall phase (equal to $\\det(V)$), but it has zeros in the upper diagonal, which saves some work in the preparation of the Slater determinant. The unitary $U$ can be written in the form\n",
    "\n",
    "$$U = G_{N_G} \\cdots G_2 G_1$$\n",
    "\n",
    "where the $G_k$ are complex Givens rotations. We can obtain $V$, the $G_k$, and the diagonal entries of $VQU^\\dagger$ using the `givens_decomposition` function."
   ]
  },
  {
   "cell_type": "code",
   "execution_count": 3,
   "metadata": {},
   "outputs": [
    {
     "name": "stdout",
     "output_type": "stream",
     "text": [
      "[[ 0.094-0.149j  0.242-0.911j  0.056+0.28j ]\n",
      " [ 0.092+0.436j  0.024-0.317j -0.164-0.82j ]\n",
      " [ 0.878+0.j    -0.025+0.102j  0.466-0.035j]]\n",
      "\n",
      "[-0.953-0.303j  0.132+0.991j -0.200+0.98j ]\n"
     ]
    }
   ],
   "source": [
    "# Get Givens decomposition of U\n",
    "V, givens_rotations, diagonal = givens_decomposition(Q)\n",
    "print(V)\n",
    "print()\n",
    "print(diagonal)"
   ]
  },
  {
   "cell_type": "markdown",
   "metadata": {},
   "source": [
    "We didn't print the Givens rotations in the above block because it wouldn't look pretty. The Givens rotations are returned as a list of tuples of tuples. We will now iterate through the tuples of the list, and print the innermost tuple within each tuple as a string."
   ]
  },
  {
   "cell_type": "code",
   "execution_count": 4,
   "metadata": {},
   "outputs": [
    {
     "name": "stdout",
     "output_type": "stream",
     "text": [
      "('2, 3, 0.297, -2.332',)\n",
      "('1, 2, 0.735, 1.110', '3, 4, 0.662, -2.365')\n",
      "('0, 1, 1.084, 1.537', '2, 3, 0.873, -1.708', '4, 5, 1.054, 2.647')\n",
      "('1, 2, 1.349, 2.749', '3, 4, 1.219, 0.577')\n",
      "('2, 3, 1.079, -1.236',)\n"
     ]
    }
   ],
   "source": [
    "for parallel_set in givens_rotations:\n",
    "    print(tuple([\"{}, {}, {:.3f}, {:.3f}\".format(i, j, theta, phi)\n",
    "                 for i, j, theta, phi in parallel_set]))"
   ]
  },
  {
   "cell_type": "markdown",
   "metadata": {},
   "source": [
    "There are 5 tuples printed, and within each tuple, there are strings of the form 'i, j, theta, phi'. Each such string represents an innermost tuple, and it is a description of a complex Givens rotation of the coordinates $i$ and $j$ by angles $\\theta$ and $\\varphi$. The $2 \\times 2$ matrix corresponding to this rotation is\n",
    "\n",
    "$$\n",
    "\\begin{pmatrix}\n",
    "\\cos \\theta & -e^{i \\varphi} \\sin \\theta \\\\\n",
    "\\sin \\theta & e^{i \\varphi} \\cos \\theta\n",
    "\\end{pmatrix}.\n",
    "$$\n",
    "\n",
    "The fact that there are 5 tuples means that the circuit depth to prepare the Slater determinant corresponding to $Q$ (up to a phase) has depth 5. All of the rotations within the tuple can be performed in parallel; this is possible because the indices to be rotated are disjoint. For instance, in the third step, we can perform three rotations simultaneously, on coordinates $(0, 1)$, $(2, 3)$, and $(4, 5)$."
   ]
  },
  {
   "cell_type": "markdown",
   "metadata": {},
   "source": [
    "Let's check that $VQ$ has zeros in the upper right corner."
   ]
  },
  {
   "cell_type": "code",
   "execution_count": 5,
   "metadata": {},
   "outputs": [
    {
     "name": "stdout",
     "output_type": "stream",
     "text": [
      "[[-0.446-0.142j -0.177+0.631j  0.557-0.105j  0.141+0.101j  0.000+0.j    -0.000-0.j   ]\n",
      " [ 0.026+0.193j  0.135+0.376j -0.343+0.53j   0.420+0.127j -0.456-0.052j -0.000+0.j   ]\n",
      " [-0.081+0.399j -0.300-0.15j   0.122+0.04j   0.200-0.298j  0.034-0.239j  0.587+0.417j]]\n"
     ]
    }
   ],
   "source": [
    "# Check that VQ has zeros in upper right corner\n",
    "W = V.dot(Q)\n",
    "print(W)"
   ]
  },
  {
   "cell_type": "markdown",
   "metadata": {},
   "source": [
    "Now let's check the Givens decomposition. For each set of Givens rotations that can be performed in parallel, we construct the matrices corresponding to the Givens rotations and multiply them together. Then, we multiply $W = VQ$ repeatedly on the right by these matrices and check that the correct elements are zeroed out."
   ]
  },
  {
   "cell_type": "code",
   "execution_count": 6,
   "metadata": {
    "scrolled": true
   },
   "outputs": [
    {
     "name": "stdout",
     "output_type": "stream",
     "text": [
      "Number of rotations to perform in parallel: 1\n",
      "[[-0.446-0.142j -0.177+0.631j  0.582-0.11j  -0.000+0.j     0.000+0.j    -0.000-0.j   ]\n",
      " [ 0.026+0.193j  0.135+0.376j -0.217+0.444j -0.465+0.363j -0.456-0.052j -0.000+0.j   ]\n",
      " [-0.081+0.399j -0.300-0.15j   0.094-0.064j  0.111+0.347j  0.034-0.239j  0.587+0.417j]]\n",
      "\n",
      "Number of rotations to perform in parallel: 2\n",
      "[[-0.446-0.142j -0.239+0.851j -0.000-0.j    -0.000+0.j    -0.000+0.j    -0.000-0.j   ]\n",
      " [ 0.026+0.193j -0.101+0.017j  0.314+0.543j -0.589+0.46j   0.000+0.j    -0.000+0.j   ]\n",
      " [-0.081+0.399j -0.212-0.036j -0.213-0.184j -0.000+0.154j  0.181+0.367j  0.587+0.417j]]\n",
      "\n",
      "Number of rotations to perform in parallel: 3\n",
      "[[-0.953-0.303j -0.000-0.j    -0.000-0.j    -0.000-0.j    -0.000-0.j    -0.000+0.j   ]\n",
      " [-0.000-0.j     0.029+0.218j  0.489+0.844j -0.000-0.j    -0.000+0.j     0.000+0.j   ]\n",
      " [-0.000-0.j    -0.092+0.451j -0.020-0.102j -0.261-0.155j  0.366+0.742j  0.000-0.j   ]]\n",
      "\n",
      "Number of rotations to perform in parallel: 2\n",
      "[[-0.953-0.303j -0.000-0.j    -0.000-0.j    -0.000-0.j    -0.000-0.j    -0.000+0.j   ]\n",
      " [-0.000-0.j     0.132+0.991j  0.000+0.j    -0.000-0.j    -0.000-0.j     0.000+0.j   ]\n",
      " [-0.000-0.j     0.000+0.j    -0.094+0.463j -0.758-0.45j   0.000-0.j     0.000-0.j   ]]\n",
      "\n",
      "Number of rotations to perform in parallel: 1\n",
      "[[-0.953-0.303j -0.000-0.j    -0.000+0.j    -0.000-0.j    -0.000-0.j    -0.000+0.j   ]\n",
      " [-0.000-0.j     0.132+0.991j -0.000+0.j     0.000-0.j    -0.000-0.j     0.000+0.j   ]\n",
      " [-0.000-0.j     0.000+0.j    -0.200+0.98j  -0.000+0.j     0.000-0.j     0.000-0.j   ]]\n",
      "\n"
     ]
    }
   ],
   "source": [
    "# Check the Givens decomposition\n",
    "def expanded_givens(G, i, j, n):\n",
    "    expanded_G = numpy.eye(n, dtype=complex)\n",
    "    expanded_G[([i], [j]), (i, j)] = G\n",
    "    return expanded_G\n",
    "\n",
    "U = numpy.eye(n, dtype=complex)\n",
    "for parallel_set in givens_rotations:\n",
    "    print(\"Number of rotations to perform in parallel: {}\".format(len(parallel_set)))\n",
    "    combined_givens = numpy.eye(n, dtype=complex)\n",
    "    for i, j, theta, phi in parallel_set:\n",
    "        c = numpy.cos(theta)\n",
    "        s = numpy.sin(theta)\n",
    "        phase = numpy.exp(1.j * phi)\n",
    "        G = numpy.array([[c, -phase * s],\n",
    "                     [s, phase * c]], dtype=complex)\n",
    "        expanded_G = expanded_givens(G, i, j, n)\n",
    "        combined_givens = combined_givens.dot(expanded_G)\n",
    "    W = W.dot(combined_givens.T.conj())\n",
    "    U = combined_givens.dot(U)\n",
    "    print(W)\n",
    "    print()"
   ]
  },
  {
   "cell_type": "markdown",
   "metadata": {},
   "source": [
    "Finally, let's check that the final matrix, $VQU^\\dagger$, is indeed diagonal, and that its entries match the ones returned by the function."
   ]
  },
  {
   "cell_type": "code",
   "execution_count": 7,
   "metadata": {
    "scrolled": true
   },
   "outputs": [
    {
     "name": "stdout",
     "output_type": "stream",
     "text": [
      "V * Q * U^\\dagger matches the returned diagonal:\n",
      "True\n"
     ]
    }
   ],
   "source": [
    "# Check the diagonal entries\n",
    "D = numpy.zeros((m, n), dtype=complex)\n",
    "D[numpy.diag_indices(m)] = diagonal\n",
    "print(\"V * Q * U^\\dagger matches the returned diagonal:\")\n",
    "print(numpy.all(numpy.isclose(D, V.dot(Q.dot(U.T.conj())))))"
   ]
  }
 ],
 "metadata": {
  "kernelspec": {
   "display_name": "Python 3",
   "language": "python",
   "name": "python3"
  },
  "language_info": {
   "codemirror_mode": {
    "name": "ipython",
    "version": 3
   },
   "file_extension": ".py",
   "mimetype": "text/x-python",
   "name": "python",
   "nbconvert_exporter": "python",
   "pygments_lexer": "ipython3",
   "version": "3.6.2"
  }
 },
 "nbformat": 4,
 "nbformat_minor": 2
}
