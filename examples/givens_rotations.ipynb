{
 "cells": [
  {
   "cell_type": "markdown",
   "metadata": {},
   "source": [
    "# Demonstration of Givens rotation decomposition"
   ]
  },
  {
   "cell_type": "code",
   "execution_count": 1,
   "metadata": {},
   "outputs": [],
   "source": [
    "import numpy\n",
    "from openfermion.utils import givens_decomposition\n",
    "from scipy.linalg import qr\n",
    "\n",
    "numpy.set_printoptions(precision=3, linewidth=150, suppress=True)"
   ]
  },
  {
   "cell_type": "markdown",
   "metadata": {},
   "source": [
    "A Slater determinant can be represented by an $m \\times n$ matrix with orthonormal rows. Let's obtain such a matrix $Q$ using Scipy's QR decomposition algorithm."
   ]
  },
  {
   "cell_type": "code",
   "execution_count": 2,
   "metadata": {},
   "outputs": [
    {
     "name": "stdout",
     "output_type": "stream",
     "text": [
      "[[-0.075+0.15j  -0.123-0.459j -0.081+0.194j  0.726+0.065j  0.077-0.292j -0.268-0.091j]\n",
      " [-0.108+0.169j -0.337+0.201j  0.243+0.284j -0.365+0.197j  0.123-0.139j -0.554-0.391j]\n",
      " [ 0.022-0.137j -0.543-0.425j -0.153-0.508j -0.164+0.23j  -0.086+0.281j -0.196+0.14j ]]\n"
     ]
    }
   ],
   "source": [
    "m, n = (3, 6)\n",
    "\n",
    "# Obtain a random matrix of orthonormal rows\n",
    "x = numpy.random.randn(n, n)\n",
    "y = numpy.random.randn(n, n)\n",
    "A = x + 1j*y\n",
    "Q, R = qr(A)\n",
    "Q = Q[:m, :]\n",
    "print(Q)"
   ]
  },
  {
   "cell_type": "markdown",
   "metadata": {},
   "source": [
    "There exist unitary matrices $V$ and $U$ such that $VQU^\\dagger$ is an $m \\times n$ diagonal matrix. The matrix $VQ$ represents the same Slater determinant as $Q$ up to an overall phase, but it has zeros in the upper diagonal, which saves some work in the preparation of the Slater determinant. The unitary $U$ can be written in the form\n",
    "\n",
    "$$U = G_{N_G} \\cdots G_2 G_1$$\n",
    "\n",
    "where the $G_k$ are complex Givens rotations. We can obtain $V$, the $G_k$, and the diagonal entries of $VQU^\\dagger$ using the `givens_decomposition` function."
   ]
  },
  {
   "cell_type": "code",
   "execution_count": 3,
   "metadata": {},
   "outputs": [
    {
     "name": "stdout",
     "output_type": "stream",
     "text": [
      "[[ 0.747+0.047j -0.378+0.229j  0.493+0.049j]\n",
      " [ 0.548-0.077j -0.089-0.166j -0.807-0.081j]\n",
      " [ 0.366+0.j     0.841-0.248j  0.181+0.253j]]\n",
      "\n",
      "[-0.677-0.736j -0.105+0.994j -0.181+0.983j]\n"
     ]
    }
   ],
   "source": [
    "# Get Givens decomposition of U\n",
    "V, givens_rotations, diagonal = givens_decomposition(Q)\n",
    "print(V)\n",
    "print()\n",
    "print(diagonal)"
   ]
  },
  {
   "cell_type": "markdown",
   "metadata": {},
   "source": [
    "We didn't print the Givens rotations in the above block because it wouldn't look pretty. The Givens rotations are returned as a list of tuples of tuples. We will now iterate through the tuples of the list, and print the innermost tuple within each tuple as a string."
   ]
  },
  {
   "cell_type": "code",
   "execution_count": 4,
   "metadata": {},
   "outputs": [
    {
     "name": "stdout",
     "output_type": "stream",
     "text": [
      "('2, 3, 1.032, -0.493',)\n",
      "('1, 2, 0.683, 2.427', '3, 4, 0.576, 0.865')\n",
      "('0, 1, 1.507, -2.707', '2, 3, 0.853, -2.729', '4, 5, 1.524, 3.044')\n",
      "('1, 2, 1.368, 1.954', '3, 4, 0.914, -3.120')\n",
      "('2, 3, 1.356, -1.350',)\n"
     ]
    }
   ],
   "source": [
    "for parallel_set in givens_rotations:\n",
    "    print(tuple([\"{}, {}, {:.3f}, {:.3f}\".format(i, j, theta, phi)\n",
    "                 for i, j, theta, phi in parallel_set]))"
   ]
  },
  {
   "cell_type": "markdown",
   "metadata": {},
   "source": [
    "There are 5 tuples printed, and within each tuple, there are strings of the form 'i, j, theta, phi'. Each such string represents an innermost tuple, and it is a description of a complex Givens rotation of the coordinates $i$ and $j$ by angles $\\theta$ and $\\varphi$. The $2 \\times 2$ matrix corresponding to this rotation is\n",
    "\n",
    "$$\n",
    "\\begin{pmatrix}\n",
    "\\cos \\theta & -e^{i \\varphi} \\sin \\theta \\\\\n",
    "\\sin \\theta & e^{i \\varphi} \\cos \\theta\n",
    "\\end{pmatrix}.\n",
    "$$\n",
    "\n",
    "The fact that there are 5 tuples means that the circuit depth to prepare the Slater determinant corresponding to $Q$ (up to a phase) has depth 5. All of the rotations within the tuple can be performed in parallel; this is possible because the indices to be rotated are disjoint. For instance, in the third step, we can perform three rotations simultaneously, on coordinates $(0, 1)$, $(2, 3)$, and $(4, 5)$."
   ]
  },
  {
   "cell_type": "markdown",
   "metadata": {},
   "source": [
    "Let's check that $VQ$ has zeros in the upper right corner."
   ]
  },
  {
   "cell_type": "code",
   "execution_count": 5,
   "metadata": {},
   "outputs": [
    {
     "name": "stdout",
     "output_type": "stream",
     "text": [
      "[[-0.043-0.047j -0.235-0.737j -0.276-0.168j  0.540+0.03j   0.000+0.j     0.000-0.j   ]\n",
      " [-0.021+0.2j    0.364+0.183j  0.078+0.47j   0.619-0.15j   0.078-0.394j  0.000-0.j   ]\n",
      " [-0.038+0.205j -0.270-0.129j  0.346+0.119j -0.081+0.28j   0.010-0.225j -0.732-0.248j]]\n"
     ]
    }
   ],
   "source": [
    "# Check that VQ has zeros in upper right corner\n",
    "W = V.dot(Q)\n",
    "print(W)"
   ]
  },
  {
   "cell_type": "markdown",
   "metadata": {},
   "source": [
    "Now let's check the Givens decomposition. For each set of Givens rotations that can be performed in parallel, we construct the matrices corresponding to the Givens rotations and multiply them together. Then, we multiply $W = VQ$ repeatedly on the right by these matrices and check that the correct elements are zeroed out."
   ]
  },
  {
   "cell_type": "code",
   "execution_count": 6,
   "metadata": {
    "scrolled": true
   },
   "outputs": [
    {
     "name": "stdout",
     "output_type": "stream",
     "text": [
      "Number of rotations to perform in parallel: 1\n",
      "[[-0.043-0.047j -0.235-0.737j -0.538-0.328j -0.000-0.j     0.000+0.j     0.000-0.j   ]\n",
      " [-0.021+0.2j    0.364+0.183j -0.489+0.104j  0.383+0.486j  0.078-0.394j  0.000-0.j   ]\n",
      " [-0.038+0.205j -0.270-0.129j  0.352-0.118j  0.192+0.209j  0.010-0.225j -0.732-0.248j]]\n",
      "\n",
      "Number of rotations to perform in parallel: 2\n",
      "[[-0.043-0.047j -0.303-0.951j  0.000+0.j    -0.000-0.j    -0.000-0.j     0.000-0.j   ]\n",
      " [-0.021+0.2j    0.007-0.011j  0.569+0.303j  0.457+0.579j  0.000+0.j     0.000-0.j   ]\n",
      " [-0.038+0.205j  0.008-0.011j -0.437-0.191j  0.251+0.259j -0.033-0.015j -0.732-0.248j]]\n",
      "\n",
      "Number of rotations to perform in parallel: 3\n",
      "[[-0.677-0.736j  0.000+0.j    -0.000+0.j     0.000+0.j    -0.000-0.j    -0.000-0.j   ]\n",
      " [ 0.000-0.j    -0.021+0.2j    0.865+0.46j  -0.000+0.j     0.000-0.j     0.000+0.j   ]\n",
      " [ 0.000-0.j    -0.038+0.205j -0.036-0.023j -0.549-0.234j -0.705-0.319j  0.000-0.j   ]]\n",
      "\n",
      "Number of rotations to perform in parallel: 2\n",
      "[[-0.677-0.736j -0.000-0.j     0.000+0.j     0.000+0.j     0.000+0.j    -0.000-0.j   ]\n",
      " [ 0.000-0.j    -0.105+0.994j  0.000-0.j    -0.000+0.j    -0.000+0.j     0.000+0.j   ]\n",
      " [ 0.000-0.j     0.000-0.j    -0.039+0.21j  -0.899-0.384j -0.000+0.j     0.000-0.j   ]]\n",
      "\n",
      "Number of rotations to perform in parallel: 1\n",
      "[[-0.677-0.736j -0.000-0.j     0.000-0.j     0.000+0.j     0.000+0.j    -0.000-0.j   ]\n",
      " [ 0.000-0.j    -0.105+0.994j  0.000-0.j    -0.000-0.j    -0.000+0.j     0.000+0.j   ]\n",
      " [ 0.000-0.j     0.000-0.j    -0.181+0.983j -0.000-0.j    -0.000+0.j     0.000-0.j   ]]\n",
      "\n"
     ]
    }
   ],
   "source": [
    "# Check the Givens decomposition\n",
    "def expanded_givens(G, i, j, n):\n",
    "    expanded_G = numpy.eye(n, dtype=complex)\n",
    "    expanded_G[([i], [j]), (i, j)] = G\n",
    "    return expanded_G\n",
    "\n",
    "U = numpy.eye(n, dtype=complex)\n",
    "for parallel_set in givens_rotations:\n",
    "    print(\"Number of rotations to perform in parallel: {}\".format(len(parallel_set)))\n",
    "    combined_givens = numpy.eye(n)\n",
    "    for i, j, theta, phi in parallel_set:\n",
    "        c = numpy.cos(theta)\n",
    "        s = numpy.sin(theta)\n",
    "        phase = numpy.exp(1.j * phi)\n",
    "        G = numpy.array([[c, -phase * s],\n",
    "                     [s, phase * c]], dtype=complex)\n",
    "        expanded_G = expanded_givens(G, i, j, n)\n",
    "        combined_givens = combined_givens.dot(expanded_G)\n",
    "    W = W.dot(combined_givens.T.conj())\n",
    "    U = combined_givens.dot(U)\n",
    "    print(W)\n",
    "    print()"
   ]
  },
  {
   "cell_type": "markdown",
   "metadata": {},
   "source": [
    "Finally, let's check that the final matrix, $VQU^\\dagger$, is indeed diagonal, and that its entries match the ones returned by the function."
   ]
  },
  {
   "cell_type": "code",
   "execution_count": 7,
   "metadata": {
    "scrolled": true
   },
   "outputs": [
    {
     "name": "stdout",
     "output_type": "stream",
     "text": [
      "V * Q * U^\\dagger matches the returned diagonal:\n",
      "True\n"
     ]
    }
   ],
   "source": [
    "# Check the diagonal entries\n",
    "D = numpy.zeros((m, n), dtype=complex)\n",
    "D[numpy.diag_indices(m)] = diagonal\n",
    "print(\"V * Q * U^\\dagger matches the returned diagonal:\")\n",
    "print(numpy.all(numpy.isclose(D, V.dot(Q.dot(U.T.conj())))))"
   ]
  }
 ],
 "metadata": {
  "kernelspec": {
   "display_name": "Python 3",
   "language": "python",
   "name": "python3"
  },
  "language_info": {
   "codemirror_mode": {
    "name": "ipython",
    "version": 3
   },
   "file_extension": ".py",
   "mimetype": "text/x-python",
   "name": "python",
   "nbconvert_exporter": "python",
   "pygments_lexer": "ipython3",
   "version": "3.6.2"
  }
 },
 "nbformat": 4,
 "nbformat_minor": 2
}
