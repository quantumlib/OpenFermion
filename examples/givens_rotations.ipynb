{
 "cells": [
  {
   "cell_type": "markdown",
   "metadata": {},
   "source": [
    "# Demonstration of Givens rotation decomposition"
   ]
  },
  {
   "cell_type": "code",
   "execution_count": 1,
   "metadata": {
    "collapsed": true
   },
   "outputs": [],
   "source": [
    "import numpy\n",
    "from openfermion.utils import givens_decomposition\n",
    "from scipy.linalg import qr\n",
    "\n",
    "numpy.set_printoptions(precision=3, linewidth=150, suppress=True)"
   ]
  },
  {
   "cell_type": "markdown",
   "metadata": {},
   "source": [
    "A Slater determinant can be represented by an $m \\times n$ matrix with orthonormal rows. Let's obtain such a matrix $Q$ using Scipy's QR decomposition algorithm."
   ]
  },
  {
   "cell_type": "code",
   "execution_count": 2,
   "metadata": {},
   "outputs": [
    {
     "name": "stdout",
     "output_type": "stream",
     "text": [
      "[[-0.542-0.124j -0.072+0.168j  0.035-0.044j -0.403+0.069j -0.062-0.475j  0.456-0.219j]\n",
      " [ 0.099+0.269j -0.015-0.168j -0.572+0.356j -0.291+0.306j  0.343+0.208j  0.308+0.038j]\n",
      " [-0.059+0.023j  0.034+0.47j  -0.359-0.342j  0.467-0.046j  0.467-0.069j  0.035-0.29j ]]\n"
     ]
    }
   ],
   "source": [
    "m, n = (3, 6)\n",
    "\n",
    "# Obtain a random matrix of orthonormal rows\n",
    "x = numpy.random.randn(n, n)\n",
    "y = numpy.random.randn(n, n)\n",
    "A = x + 1j*y\n",
    "Q, R = qr(A)\n",
    "Q = Q[:m, :]\n",
    "print(Q)"
   ]
  },
  {
   "cell_type": "markdown",
   "metadata": {},
   "source": [
    "There exist unitary matrices $V$ and $U$ such that $VQU^\\dagger$ is an $m \\times n$ diagonal matrix. The matrix $VQ$ represents the same Slater determinant as $Q$ up to an overall phase, but it has zeros in the upper diagonal, which saves some work in the preparation of the Slater determinant. The unitary $U$ can be written in the form\n",
    "\n",
    "$$U = G_{N_G} \\cdots G_2 G_1$$\n",
    "\n",
    "where the $G_k$ are complex Givens rotations. We can obtain $V$, the $G_k$, and the diagonal entries of $VQU^\\dagger$ using the `givens_decomposition` function."
   ]
  },
  {
   "cell_type": "code",
   "execution_count": 3,
   "metadata": {},
   "outputs": [
    {
     "name": "stdout",
     "output_type": "stream",
     "text": [
      "[[ 0.208+0.136j -0.610+0.492j  0.525+0.219j]\n",
      " [ 0.570-0.166j -0.387+0.128j -0.641-0.267j]\n",
      " [ 0.765+0.j     0.394-0.254j  0.238+0.372j]]\n",
      "\n",
      "[-0.833-0.553j -0.981-0.194j -0.996-0.092j]\n"
     ]
    }
   ],
   "source": [
    "# Get Givens decomposition of U\n",
    "V, givens_rotations, diagonal = givens_decomposition(Q)\n",
    "print(V)\n",
    "print()\n",
    "print(diagonal)"
   ]
  },
  {
   "cell_type": "markdown",
   "metadata": {},
   "source": [
    "We didn't print the Givens rotations in the above block because it wouldn't look pretty. The Givens rotations are returned as a list of tuples of tuples. We will now iterate through the tuples of the list, and print the innermost tuple within each tuple as a string."
   ]
  },
  {
   "cell_type": "code",
   "execution_count": 4,
   "metadata": {},
   "outputs": [
    {
     "name": "stdout",
     "output_type": "stream",
     "text": [
      "('2, 3, 0.428, -2.664',)\n",
      "('1, 2, 1.150, 0.013', '3, 4, 0.891, 0.646')\n",
      "('0, 1, 1.170, 1.068', '2, 3, 1.382, -2.695', '4, 5, 0.896, -2.096')\n",
      "('1, 2, 1.163, -0.720', '3, 4, 1.172, -0.704')\n",
      "('2, 3, 1.167, 2.260',)\n"
     ]
    }
   ],
   "source": [
    "for parallel_set in givens_rotations:\n",
    "    print(tuple([\"{}, {}, {:.3f}, {:.3f}\".format(i, j, theta, phi)\n",
    "                 for i, j, theta, phi in parallel_set]))"
   ]
  },
  {
   "cell_type": "markdown",
   "metadata": {},
   "source": [
    "There are 5 tuples printed, and within each tuple, there are strings of the form 'i, j, theta, phi'. Each such string represents an innermost tuple, and it is a description of a complex Givens rotation of the coordinates $i$ and $j$ by angles $\\theta$ and $\\varphi$. The $2 \\times 2$ matrix corresponding to this rotation is\n",
    "\n",
    "$$\n",
    "\\begin{pmatrix}\n",
    "\\cos \\theta & -e^{i \\varphi} \\sin \\theta \\\\\n",
    "\\sin \\theta & e^{i \\varphi} \\cos \\theta\n",
    "\\end{pmatrix}.\n",
    "$$\n",
    "\n",
    "The fact that there are 5 tuples means that the circuit depth to prepare the Slater determinant corresponding to $Q$ (up to a phase) has depth 5. All of the rotations within the tuple can be performed in parallel; this is possible because the indices to be rotated are disjoint. For instance, in the third step, we can perform three rotations simultaneously, on coordinates $(0, 1)$, $(2, 3)$, and $(4, 5)$."
   ]
  },
  {
   "cell_type": "markdown",
   "metadata": {},
   "source": [
    "Let's check that $VQ$ has zeros in the upper right corner."
   ]
  },
  {
   "cell_type": "code",
   "execution_count": 5,
   "metadata": {},
   "outputs": [
    {
     "name": "stdout",
     "output_type": "stream",
     "text": [
      "[[-0.325-0.216j -0.031+0.375j  0.074-0.761j  0.189-0.293j  0.000+0.j     0.000-0.j   ]\n",
      " [-0.358-0.071j  0.117-0.139j  0.327+0.073j -0.457-0.144j -0.591-0.377j -0.000+0.j   ]\n",
      " [-0.331-0.031j -0.270+0.191j -0.066+0.036j -0.218+0.41j   0.277-0.212j  0.596-0.286j]]\n"
     ]
    }
   ],
   "source": [
    "# Check that VQ has zeros in upper right corner\n",
    "W = V.dot(Q)\n",
    "print(W)"
   ]
  },
  {
   "cell_type": "markdown",
   "metadata": {},
   "source": [
    "Now let's check the Givens decomposition. For each set of Givens rotations that can be performed in parallel, we construct the matrices corresponding to the Givens rotations and multiply them together. Then, we multiply $W = VQ$ repeatedly on the right by these matrices and check that the correct elements are zeroed out."
   ]
  },
  {
   "cell_type": "code",
   "execution_count": 6,
   "metadata": {
    "scrolled": true
   },
   "outputs": [
    {
     "name": "stdout",
     "output_type": "stream",
     "text": [
      "Number of rotations to perform in parallel: 1\n",
      "[[-0.325-0.216j -0.031+0.375j  0.081-0.837j -0.000+0.j     0.000+0.j     0.000-0.j   ]\n",
      " [-0.358-0.071j  0.117-0.139j  0.102+0.101j  0.565-0.044j -0.591-0.377j -0.000+0.j   ]\n",
      " [-0.331-0.031j -0.270+0.191j -0.062+0.226j -0.023-0.408j  0.277-0.212j  0.596-0.286j]]\n",
      "\n",
      "Number of rotations to perform in parallel: 2\n",
      "[[-0.325-0.216j -0.076+0.918j -0.000-0.j    -0.000+0.j     0.000+0.j     0.000-0.j   ]\n",
      " [-0.358-0.071j -0.047-0.147j  0.149-0.086j  0.899-0.07j   0.000-0.j    -0.000+0.j   ]\n",
      " [-0.331-0.031j -0.056-0.129j -0.271+0.266j -0.087+0.005j  0.041-0.528j  0.596-0.286j]]\n",
      "\n",
      "Number of rotations to perform in parallel: 3\n",
      "[[-0.833-0.553j -0.000-0.j    -0.000+0.j    -0.000-0.j     0.000+0.j     0.000+0.j   ]\n",
      " [ 0.000+0.j    -0.389-0.077j  0.795-0.459j  0.000+0.j     0.000-0.j     0.000-0.j   ]\n",
      " [-0.000-0.j    -0.359-0.033j -0.126+0.092j -0.252+0.254j  0.066-0.845j  0.000+0.j   ]]\n",
      "\n",
      "Number of rotations to perform in parallel: 2\n",
      "[[-0.833-0.553j  0.000-0.j    -0.000-0.j     0.000-0.j    -0.000-0.j     0.000+0.j   ]\n",
      " [ 0.000+0.j    -0.981-0.194j  0.000+0.j    -0.000-0.j     0.000+0.j     0.000-0.j   ]\n",
      " [-0.000-0.j    -0.000+0.j    -0.391-0.036j -0.648+0.653j -0.000+0.j     0.000+0.j   ]]\n",
      "\n",
      "Number of rotations to perform in parallel: 1\n",
      "[[-0.833-0.553j  0.000-0.j     0.000-0.j    -0.000-0.j    -0.000-0.j     0.000+0.j   ]\n",
      " [ 0.000+0.j    -0.981-0.194j -0.000-0.j     0.000+0.j     0.000+0.j     0.000-0.j   ]\n",
      " [-0.000-0.j    -0.000+0.j    -0.996-0.092j  0.000-0.j    -0.000+0.j     0.000+0.j   ]]\n",
      "\n"
     ]
    }
   ],
   "source": [
    "# Check the Givens decomposition\n",
    "def expanded_givens(G, i, j, n):\n",
    "    expanded_G = numpy.eye(n, dtype=complex)\n",
    "    expanded_G[([i], [j]), (i, j)] = G\n",
    "    return expanded_G\n",
    "\n",
    "U = numpy.eye(n, dtype=complex)\n",
    "for parallel_set in givens_rotations:\n",
    "    print(\"Number of rotations to perform in parallel: {}\".format(len(parallel_set)))\n",
    "    combined_givens = numpy.eye(n, dtype=complex)\n",
    "    for i, j, theta, phi in parallel_set:\n",
    "        c = numpy.cos(theta)\n",
    "        s = numpy.sin(theta)\n",
    "        phase = numpy.exp(1.j * phi)\n",
    "        G = numpy.array([[c, -phase * s],\n",
    "                     [s, phase * c]], dtype=complex)\n",
    "        expanded_G = expanded_givens(G, i, j, n)\n",
    "        combined_givens = combined_givens.dot(expanded_G)\n",
    "    W = W.dot(combined_givens.T.conj())\n",
    "    U = combined_givens.dot(U)\n",
    "    print(W)\n",
    "    print()"
   ]
  },
  {
   "cell_type": "markdown",
   "metadata": {},
   "source": [
    "Finally, let's check that the final matrix, $VQU^\\dagger$, is indeed diagonal, and that its entries match the ones returned by the function."
   ]
  },
  {
   "cell_type": "code",
   "execution_count": 7,
   "metadata": {
    "scrolled": true
   },
   "outputs": [
    {
     "name": "stdout",
     "output_type": "stream",
     "text": [
      "V * Q * U^\\dagger matches the returned diagonal:\n",
      "True\n"
     ]
    }
   ],
   "source": [
    "# Check the diagonal entries\n",
    "D = numpy.zeros((m, n), dtype=complex)\n",
    "D[numpy.diag_indices(m)] = diagonal\n",
    "print(\"V * Q * U^\\dagger matches the returned diagonal:\")\n",
    "print(numpy.all(numpy.isclose(D, V.dot(Q.dot(U.T.conj())))))"
   ]
  }
 ],
 "metadata": {
  "kernelspec": {
   "display_name": "Python 3",
   "language": "python",
   "name": "python3"
  },
  "language_info": {
   "codemirror_mode": {
    "name": "ipython",
    "version": 3
   },
   "file_extension": ".py",
   "mimetype": "text/x-python",
   "name": "python",
   "nbconvert_exporter": "python",
   "pygments_lexer": "ipython3",
   "version": "3.6.2"
  }
 },
 "nbformat": 4,
 "nbformat_minor": 2
}
